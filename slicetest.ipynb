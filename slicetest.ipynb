{
 "cells": [
  {
   "cell_type": "code",
   "execution_count": 1,
   "metadata": {},
   "outputs": [
    {
     "data": {
      "text/plain": [
       "['i', 't', 'i', 'u', 't', 'i', 'u', 't', 'i', 'u', 't', 'i', 'u', 't', 'i']"
      ]
     },
     "execution_count": 1,
     "metadata": {},
     "output_type": "execute_result"
    }
   ],
   "source": [
    "w='itiutiutiutiuti'\n",
    "list(w)"
   ]
  },
  {
   "cell_type": "code",
   "execution_count": 2,
   "metadata": {},
   "outputs": [
    {
     "data": {
      "text/plain": [
       "'iituitui'"
      ]
     },
     "execution_count": 2,
     "metadata": {},
     "output_type": "execute_result"
    }
   ],
   "source": [
    "w[::2] #even"
   ]
  },
  {
   "cell_type": "code",
   "execution_count": 3,
   "metadata": {},
   "outputs": [
    {
     "data": {
      "text/plain": [
       "'tuituit'"
      ]
     },
     "execution_count": 3,
     "metadata": {},
     "output_type": "execute_result"
    }
   ],
   "source": [
    "w[1::2]"
   ]
  },
  {
   "cell_type": "code",
   "execution_count": 4,
   "metadata": {},
   "outputs": [
    {
     "data": {
      "text/plain": [
       "'ituituituituiti'"
      ]
     },
     "execution_count": 4,
     "metadata": {},
     "output_type": "execute_result"
    }
   ],
   "source": [
    "w[::-1]\n"
   ]
  },
  {
   "cell_type": "code",
   "execution_count": 13,
   "metadata": {},
   "outputs": [
    {
     "name": "stdout",
     "output_type": "stream",
     "text": [
      "             L \n",
      "           L L \n",
      "         L L L \n",
      "       L L L L \n",
      "     L L L L L \n"
     ]
    }
   ],
   "source": [
    "for i in range(1,6):\n",
    "    print((i*'L ').rjust(15))"
   ]
  },
  {
   "cell_type": "code",
   "execution_count": 14,
   "metadata": {},
   "outputs": [
    {
     "name": "stdout",
     "output_type": "stream",
     "text": [
      "                       L \n",
      "                     L L \n",
      "                   L L L \n",
      "                 L L L L \n",
      "               L L L L L \n"
     ]
    }
   ],
   "source": [
    "for i in range(1,6):\n",
    "    print((i*'L ').rjust(25))"
   ]
  },
  {
   "cell_type": "code",
   "execution_count": 15,
   "metadata": {},
   "outputs": [
    {
     "name": "stdout",
     "output_type": "stream",
     "text": [
      "L \n",
      "L L \n",
      "L L L \n",
      "L L L L \n",
      "L L L L L \n"
     ]
    }
   ],
   "source": [
    "for i in range(1,6):\n",
    "    print((i*'L ').rjust(0))"
   ]
  },
  {
   "cell_type": "code",
   "execution_count": 16,
   "metadata": {},
   "outputs": [
    {
     "name": "stdout",
     "output_type": "stream",
     "text": [
      "   L \n",
      " L L \n",
      "L L L \n",
      "L L L L \n",
      "L L L L L \n"
     ]
    }
   ],
   "source": [
    "for i in range(1,6):\n",
    "    print((i*'L ').rjust(5))"
   ]
  },
  {
   "cell_type": "code",
   "execution_count": 17,
   "metadata": {},
   "outputs": [
    {
     "name": "stdout",
     "output_type": "stream",
     "text": [
      "              L               \n",
      "             L L              \n",
      "            L L L             \n",
      "           L L L L            \n",
      "          L L L L L           \n"
     ]
    }
   ],
   "source": [
    "for i in range(1,6):\n",
    "    print((i*'L ').center(30))"
   ]
  },
  {
   "cell_type": "code",
   "execution_count": 19,
   "metadata": {},
   "outputs": [
    {
     "name": "stdout",
     "output_type": "stream",
     "text": [
      "              L               \n",
      "            L L L             \n",
      "          L L L L L           \n",
      "        L L L L L L L         \n",
      "      L L L L L L L L L       \n",
      "    L L L L L L L L L L L     \n",
      "  L L L L L L L L L L L L L   \n"
     ]
    }
   ],
   "source": [
    "for i in range(1,15,2):\n",
    "    print((i*'L ').center(30))"
   ]
  },
  {
   "cell_type": "code",
   "execution_count": 23,
   "metadata": {},
   "outputs": [
    {
     "ename": "SyntaxError",
     "evalue": "invalid syntax (3369888587.py, line 2)",
     "output_type": "error",
     "traceback": [
      "\u001b[1;36m  Input \u001b[1;32mIn [23]\u001b[1;36m\u001b[0m\n\u001b[1;33m    if(i%2=0)\u001b[0m\n\u001b[1;37m          ^\u001b[0m\n\u001b[1;31mSyntaxError\u001b[0m\u001b[1;31m:\u001b[0m invalid syntax\n"
     ]
    }
   ],
   "source": [
    "for i in range(1,15,2):\n",
    "    if(i%2=0)\n",
    "        print((i*'L ').center(30))"
   ]
  },
  {
   "cell_type": "code",
   "execution_count": 1,
   "metadata": {},
   "outputs": [
    {
     "name": "stdout",
     "output_type": "stream",
     "text": [
      "*\n",
      "***\n",
      "*****\n"
     ]
    }
   ],
   "source": [
    "for i in range(1,7):\n",
    "    if(i==1 or i==3 or i==5):\n",
    "        print(i*'*')"
   ]
  },
  {
   "cell_type": "code",
   "execution_count": 26,
   "metadata": {},
   "outputs": [
    {
     "name": "stdout",
     "output_type": "stream",
     "text": [
      "                   0                    \n",
      "                  ***                   \n",
      "                 00000                  \n",
      "                *******                 \n",
      "               000000000                \n",
      "              ***********               \n",
      "             0000000000000              \n"
     ]
    }
   ],
   "source": [
    "for i,v in enumerate(range(1,15,2)):\n",
    "    if i%2==0:\n",
    "        print((v*'0').center(40))\n",
    "    else:\n",
    "        print((v*'*').center(40))"
   ]
  },
  {
   "cell_type": "code",
   "execution_count": 2,
   "metadata": {},
   "outputs": [],
   "source": [
    "story=\"\"\"Widely regarded as one of the greatest films of all time, \n",
    "this mob drama, based on Mario Puzo's novel of the same name, focuses on the powerful \n",
    "Italian-American crime family of Don Vito Corleone (Marlon Brando). \n",
    "When the don's youngest son, Michael (Al Pacino), reluctantly joins the Mafia,\n",
    " he becomes involved in the inevitable cycle of violence and betrayal. \n",
    " Although Michael tries to maintain a normal relationship with his wife,\n",
    "  Kay (Diane Keaton), he is drawn deeper into the family business.\"\"\""
   ]
  },
  {
   "cell_type": "code",
   "execution_count": 3,
   "metadata": {},
   "outputs": [
    {
     "data": {
      "text/plain": [
       "False"
      ]
     },
     "execution_count": 3,
     "metadata": {},
     "output_type": "execute_result"
    }
   ],
   "source": [
    "story.isalpha()"
   ]
  },
  {
   "cell_type": "code",
   "execution_count": 4,
   "metadata": {},
   "outputs": [
    {
     "data": {
      "text/plain": [
       "False"
      ]
     },
     "execution_count": 4,
     "metadata": {},
     "output_type": "execute_result"
    }
   ],
   "source": [
    "msg=input('enter anything:')\n",
    "msg.isalpha()"
   ]
  },
  {
   "cell_type": "code",
   "execution_count": 6,
   "metadata": {},
   "outputs": [
    {
     "name": "stdout",
     "output_type": "stream",
     "text": [
      "Pagle Galat hai\n"
     ]
    }
   ],
   "source": [
    "msg=input ('enter a number:')\n",
    "if msg.isnumeric():\n",
    "    print('sahi hai')\n",
    "else:\n",
    "    print('Pagle Galat hai')"
   ]
  },
  {
   "cell_type": "code",
   "execution_count": 12,
   "metadata": {},
   "outputs": [
    {
     "data": {
      "text/plain": [
       "False"
      ]
     },
     "execution_count": 12,
     "metadata": {},
     "output_type": "execute_result"
    }
   ],
   "source": [
    "msg=input('Enter a number:')\n",
    "msg.isalnum()"
   ]
  },
  {
   "cell_type": "code",
   "execution_count": 13,
   "metadata": {},
   "outputs": [
    {
     "data": {
      "text/plain": [
       "5"
      ]
     },
     "execution_count": 13,
     "metadata": {},
     "output_type": "execute_result"
    }
   ],
   "source": [
    "story.count('of')"
   ]
  },
  {
   "cell_type": "code",
   "execution_count": 14,
   "metadata": {},
   "outputs": [
    {
     "name": "stdout",
     "output_type": "stream",
     "text": [
      "a 36\n",
      "b 6\n",
      "c 11\n",
      "d 11\n",
      "e 49\n",
      "f 12\n",
      "g 4\n",
      "h 18\n",
      "i 33\n",
      "j 1\n",
      "k 0\n",
      "l 24\n",
      "m 13\n",
      "n 32\n",
      "o 34\n",
      "p 3\n",
      "q 0\n",
      "r 18\n",
      "s 21\n",
      "t 26\n",
      "u 7\n",
      "v 5\n",
      "w 4\n",
      "x 0\n",
      "y 8\n",
      "z 1\n"
     ]
    }
   ],
   "source": [
    "for char in \"abcdefghijklmnopqrstuvwxyz\":\n",
    "    print(char,story.count(char))"
   ]
  },
  {
   "cell_type": "code",
   "execution_count": null,
   "metadata": {},
   "outputs": [],
   "source": []
  },
  {
   "cell_type": "code",
   "execution_count": 19,
   "metadata": {},
   "outputs": [
    {
     "name": "stdout",
     "output_type": "stream",
     "text": [
      "Chandra  8\n",
      "Chandra 7\n"
     ]
    }
   ],
   "source": [
    "name=input('enter your name')\n",
    "print(name,len(name))\n",
    "name=name.strip()\n",
    "print(name,len(name))"
   ]
  },
  {
   "cell_type": "code",
   "execution_count": 21,
   "metadata": {},
   "outputs": [
    {
     "name": "stdout",
     "output_type": "stream",
     "text": [
      "Welcome gentlemen,Mr. Smith\n",
      "Welcome Mylady,Mrs. Jones\n",
      "Welcome gentlemen,Mr. Williams\n",
      "Welcome Mylady,Mrs Brown\n"
     ]
    }
   ],
   "source": [
    "guestlist=['Mr. Smith','Mrs. Jones','Mr. Williams','Mrs Brown']\n",
    "for name in guestlist:\n",
    "    if name.startswith('Mr.'):\n",
    "        print(f'Welcome gentlemen,{name}')\n",
    "    if name.startswith('Mrs'):\n",
    "        print(f'Welcome Mylady,{name}')"
   ]
  },
  {
   "cell_type": "code",
   "execution_count": null,
   "metadata": {},
   "outputs": [],
   "source": [
    "files=['Mr. Smith.mp4','Mrs. Jones.mp3','Mr. Williams.mp4','Mrs Brown.txt','aagsgjs.txt']\n",
    "for file in Files:\n",
    "    if file.endswith('.mp3'):\n",
    "        print(f'Welcome Mylady,{name}')\n",
    "        print(f'Welcome gentlemen,{name}')\n",
    "    if name.startswith('Mrs'):\n",
    "        print(f'Welcome Mylady,{name}')"
   ]
  },
  {
   "cell_type": "code",
   "execution_count": 31,
   "metadata": {},
   "outputs": [
    {
     "ename": "SyntaxError",
     "evalue": "EOL while scanning string literal (4201830935.py, line 1)",
     "output_type": "error",
     "traceback": [
      "\u001b[1;36m  Input \u001b[1;32mIn [31]\u001b[1;36m\u001b[0m\n\u001b[1;33m    story1=(\"\"\"Enter a y\"\"\"\")\u001b[0m\n\u001b[1;37m                             ^\u001b[0m\n\u001b[1;31mSyntaxError\u001b[0m\u001b[1;31m:\u001b[0m EOL while scanning string literal\n"
     ]
    }
   ],
   "source": [
    "story1=(Enter a y\"\"\"\")\n",
    "for char in \"aeiou\":\n",
    "    story1=story1.replace(char,'')\n",
    "print(story1)"
   ]
  },
  {
   "cell_type": "code",
   "execution_count": 38,
   "metadata": {},
   "outputs": [
    {
     "name": "stdout",
     "output_type": "stream",
     "text": [
      "Wdly rgrdd s n f th grtst flms f ll tm, \n",
      "ths mb drm, bsd n Mr Pz's nvl f th sm nm, fcss n th pwrfl \n",
      "Itln-Amrcn crm fmly f Dn Vt Crln (Mrln Brnd). \n",
      "Whn th dn's yngst sn, Mchl (Al Pcn), rlctntly jns th Mf,\n",
      " h bcms nvlvd n th nvtbl cycl f vlnc nd btryl. \n",
      " Althgh Mchl trs t mntn  nrml rltnshp wth hs wf,\n",
      "  Ky (Dn Ktn), h s drwn dpr nt th fmly bsnss.\n"
     ]
    }
   ],
   "source": [
    "char='aeiou'\n",
    "for char in \"aeiou\":\n",
    "    story=story.replace(char,'')\n",
    "print(story)"
   ]
  },
  {
   "cell_type": "code",
   "execution_count": null,
   "metadata": {},
   "outputs": [],
   "source": []
  },
  {
   "cell_type": "code",
   "execution_count": null,
   "metadata": {},
   "outputs": [],
   "source": []
  },
  {
   "cell_type": "code",
   "execution_count": 33,
   "metadata": {},
   "outputs": [
    {
     "ename": "TypeError",
     "evalue": "strip expected at most 1 argument, got 2",
     "output_type": "error",
     "traceback": [
      "\u001b[1;31m---------------------------------------------------------------------------\u001b[0m",
      "\u001b[1;31mTypeError\u001b[0m                                 Traceback (most recent call last)",
      "\u001b[1;32mc:\\Users\\mnm80\\Documents\\Python Basic\\slicetest.ipynb Cell 27'\u001b[0m in \u001b[0;36m<cell line: 2>\u001b[1;34m()\u001b[0m\n\u001b[0;32m      <a href='vscode-notebook-cell:/c%3A/Users/mnm80/Documents/Python%20Basic/slicetest.ipynb#ch0000029?line=0'>1</a>\u001b[0m char\u001b[39m=\u001b[39m\u001b[39m\"\u001b[39m\u001b[39maeiou\u001b[39m\u001b[39m\"\u001b[39m\n\u001b[0;32m      <a href='vscode-notebook-cell:/c%3A/Users/mnm80/Documents/Python%20Basic/slicetest.ipynb#ch0000029?line=1'>2</a>\u001b[0m \u001b[39mfor\u001b[39;00m char \u001b[39min\u001b[39;00m \u001b[39m\"\u001b[39m\u001b[39maeiou\u001b[39m\u001b[39m\"\u001b[39m:\n\u001b[1;32m----> <a href='vscode-notebook-cell:/c%3A/Users/mnm80/Documents/Python%20Basic/slicetest.ipynb#ch0000029?line=2'>3</a>\u001b[0m     story\u001b[39m=\u001b[39mstory\u001b[39m.\u001b[39;49mstrip(char,\u001b[39m'\u001b[39;49m\u001b[39m'\u001b[39;49m)\n\u001b[0;32m      <a href='vscode-notebook-cell:/c%3A/Users/mnm80/Documents/Python%20Basic/slicetest.ipynb#ch0000029?line=3'>4</a>\u001b[0m \u001b[39mprint\u001b[39m(story)\n",
      "\u001b[1;31mTypeError\u001b[0m: strip expected at most 1 argument, got 2"
     ]
    }
   ],
   "source": [
    "char=\"aeiou\"\n",
    "for char in \"aeiou\":\n",
    "    story=story.strip(char,'')\n",
    "print(story)"
   ]
  },
  {
   "cell_type": "code",
   "execution_count": 36,
   "metadata": {},
   "outputs": [
    {
     "name": "stdout",
     "output_type": "stream",
     "text": [
      "ths s  mssg, nd ts  lng mssg\n"
     ]
    }
   ],
   "source": [
    "vowels='aeiouAEIOU'\n",
    "message='this is a message, and its a long message'\n",
    "for vowel in vowels:\n",
    "    message=message.replace(vowel,'')\n",
    "print(message)"
   ]
  },
  {
   "cell_type": "code",
   "execution_count": null,
   "metadata": {},
   "outputs": [],
   "source": [
    "vowels='aeiouAEIOU'\n",
    "message='this is a message, and its a long message'\n"
   ]
  },
  {
   "cell_type": "code",
   "execution_count": 39,
   "metadata": {},
   "outputs": [],
   "source": [
    "story1=\"\"\"Widely regarded as one of the greatest films of all time, \n",
    "this mob drama, based on Mario Puzo's novel of the same name, focuses on the powerful \n",
    "Italian-American crime family of Don Vito Corleone (Marlon Brando). \n",
    "When the don's youngest son, Michael (Al Pacino), reluctantly joins the Mafia,\n",
    " he becomes involved in the inevitable cycle of violence and betrayal. \n",
    " Although Michael tries to maintain a normal relationship with his wife,\n",
    "  Kay (Diane Keaton), he is drawn deeper into the family business.\"\"\"\n"
   ]
  },
  {
   "cell_type": "code",
   "execution_count": null,
   "metadata": {},
   "outputs": [],
   "source": [
    "soi"
   ]
  },
  {
   "cell_type": "code",
   "execution_count": null,
   "metadata": {},
   "outputs": [],
   "source": []
  },
  {
   "cell_type": "code",
   "execution_count": null,
   "metadata": {},
   "outputs": [],
   "source": []
  },
  {
   "cell_type": "code",
   "execution_count": 41,
   "metadata": {},
   "outputs": [
    {
     "name": "stdout",
     "output_type": "stream",
     "text": [
      "Wdly rgrdd s n f th grtst flms f ll tm, \n",
      "ths mb drm, bsd n Mr Pz's nvl f th sm nm, fcss n th pwrfl \n",
      "Itln-Amrcn crm fmly f Dn Vt Crln (Mrln Brnd). \n",
      "Whn th dn's yngst sn, Mchl (Al Pcn), rlctntly jns th Mf,\n",
      " h bcms nvlvd n th nvtbl cycl f vlnc nd btryl. \n",
      " Althgh Mchl trs t mntn  nrml rltnshp wth hs wf,\n",
      "  Ky (Dn Ktn), h s drwn dpr nt th fmly bsnss.\n"
     ]
    }
   ],
   "source": [
    "char='aeiou'\n",
    "for char in \"aeiou\":\n",
    "    \n",
    "    \n",
    "    story1=story1.replace(char,'')\n",
    "print(story)"
   ]
  },
  {
   "cell_type": "code",
   "execution_count": 42,
   "metadata": {},
   "outputs": [
    {
     "name": "stdout",
     "output_type": "stream",
     "text": [
      "Wdly rgrdd s n f th grtst flms f ll tm, \n",
      "ths mb drm, bsd n Mr Pz's nvl f th sm nm, fcss n th pwrfl \n",
      "Itln-Amrcn crm fmly f Dn Vt Crln (Mrln Brnd). \n",
      "Whn th dn's yngst sn, Mchl (Al Pcn), rlctntly jns th Mf,\n",
      " h bcms nvlvd n th nvtbl cycl f vlnc nd btryl. \n",
      " Althgh Mchl trs t mntn  nrml rltnshp wth hs wf,\n",
      "  Ky (Dn Ktn), h s drwn dpr nt th fmly bsnss.\n"
     ]
    }
   ],
   "source": [
    "story1=\"\"\"Widely regarded as one of the greatest films of all time, \n",
    "this mob drama, based on Mario Puzo's novel of the same name, focuses on the powerful \n",
    "Italian-American crime family of Don Vito Corleone (Marlon Brando). \n",
    "When the don's youngest son, Michael (Al Pacino), reluctantly joins the Mafia,\n",
    " he becomes involved in the inevitable cycle of violence and betrayal. \n",
    " Although Michael tries to maintain a normal relationship with his wife,\n",
    "  Kay (Diane Keaton), he is drawn deeper into the family business.\"\"\"\n",
    "  \n",
    "for char in \"aeiou\":\n",
    "    story1=story1.replace(char,'')\n",
    "print(story)"
   ]
  },
  {
   "cell_type": "code",
   "execution_count": 2,
   "metadata": {},
   "outputs": [
    {
     "data": {
      "text/plain": [
       "['black', 'red0', 'blue', 'green', 'white']"
      ]
     },
     "execution_count": 2,
     "metadata": {},
     "output_type": "execute_result"
    }
   ],
   "source": [
    "soils=['black','red0','blue','green','white','purple']\n",
    "soils[0:5]"
   ]
  },
  {
   "cell_type": "code",
   "execution_count": null,
   "metadata": {},
   "outputs": [],
   "source": [
    "#list method\n",
    "fn to add\n",
    "   append\n",
    "   insert\n",
    "   extend\n",
    "fn that remove \n",
    "   remove\n",
    "   pop \n",
    "   clear\n",
    "fn that changes \n",
    "   sort\n",
    "   reverse \n",
    "   copy\n",
    "   index \n",
    "   count \n",
    "   "
   ]
  },
  {
   "cell_type": "code",
   "execution_count": 3,
   "metadata": {},
   "outputs": [
    {
     "name": "stdout",
     "output_type": "stream",
     "text": [
      "['a', 'b', 'c', 'd', 'e', 'f', 'g', 'h', 'i', 'h']\n"
     ]
    }
   ],
   "source": [
    "books=['a','b','c','d','e','f','g','h','i']\n",
    "books.append('h')\n",
    "print(books)"
   ]
  },
  {
   "cell_type": "code",
   "execution_count": 4,
   "metadata": {},
   "outputs": [
    {
     "name": "stdout",
     "output_type": "stream",
     "text": [
      "['a', 'b', 'c', 'd', 'e', 'f', 'g', 'h', 'i', 'h', 'cbk']\n"
     ]
    }
   ],
   "source": [
    "name='cbk'\n",
    "books.append(name)\n",
    "print(books)"
   ]
  },
  {
   "cell_type": "code",
   "execution_count": 8,
   "metadata": {},
   "outputs": [
    {
     "name": "stdout",
     "output_type": "stream",
     "text": [
      "[1, 4, 1, 1, 1, 1, 1, 1, 1, 1]\n",
      "13\n"
     ]
    }
   ],
   "source": [
    "numbers=[]\n",
    "k=0\n",
    "for i in range(10):\n",
    "    val=int(input('Enter a num'))\n",
    "    numbers.append(val)\n",
    "print(numbers)\n",
    "for i in range(10):\n",
    "    k=numbers[i]+k \n",
    "print(k)\n",
    "     "
   ]
  },
  {
   "cell_type": "code",
   "execution_count": 9,
   "metadata": {},
   "outputs": [
    {
     "name": "stdout",
     "output_type": "stream",
     "text": [
      "[1, 2, 10, 3, 4, 5, 6]\n"
     ]
    }
   ],
   "source": [
    "x=[1,2,3,4,5,6]\n",
    "x.insert(2,10)\n",
    "print(x)"
   ]
  },
  {
   "cell_type": "code",
   "execution_count": 11,
   "metadata": {},
   "outputs": [
    {
     "name": "stdout",
     "output_type": "stream",
     "text": [
      "[1, 2, 10, 3, 4, 5, 6, 'a', 'b', 'c', 'd', 'e', 'f', 'g', 'h', 'i', 'h', 'cbk', 'a', 'b', 'c', 'd', 'e', 'f', 'g', 'h', 'i', 'h', 'cbk']\n"
     ]
    }
   ],
   "source": [
    "x.extend(books)\n",
    "print(x)"
   ]
  },
  {
   "cell_type": "code",
   "execution_count": 14,
   "metadata": {},
   "outputs": [
    {
     "name": "stdout",
     "output_type": "stream",
     "text": [
      "[1, 4, 5, 8, 9]\n"
     ]
    }
   ],
   "source": [
    "x=[1,2,4,5,8,9]\n",
    "x.remove(2)\n",
    "print(x)"
   ]
  },
  {
   "cell_type": "code",
   "execution_count": 16,
   "metadata": {},
   "outputs": [
    {
     "name": "stdout",
     "output_type": "stream",
     "text": [
      "[1, 4, 9]\n"
     ]
    }
   ],
   "source": [
    "x.pop(2)  \n",
    "print(x)"
   ]
  },
  {
   "cell_type": "code",
   "execution_count": null,
   "metadata": {},
   "outputs": [],
   "source": [
    "x"
   ]
  },
  {
   "cell_type": "code",
   "execution_count": 1,
   "metadata": {},
   "outputs": [
    {
     "name": "stdout",
     "output_type": "stream",
     "text": [
      "[1, 2, 3, 4, 5, 6, 7, 8, 9, 10, 11, 12, 13, 14, 15, 16, 17, 18, 19, 20, 21, 22, 23, 24, 25]\n"
     ]
    }
   ],
   "source": [
    "x=list(range(1,26))\n",
    "print(x)"
   ]
  },
  {
   "cell_type": "code",
   "execution_count": 2,
   "metadata": {},
   "outputs": [
    {
     "name": "stdout",
     "output_type": "stream",
     "text": [
      "[1, 2, 3, 4, 5, 6, 7, 8, 9, 10, 11, 12, 13, 14, 15, 16, 17, 18, 19, 20, 21, 22, 23, 24, 25]\n",
      "[3, 5, 6, 9, 10, 12, 15, 15, 15, 18, 20, 21, 24, 25]\n"
     ]
    }
   ],
   "source": [
    "x=list(range(1,26))\n",
    "print(x)\n",
    "xs=[]\n",
    "for i in x:\n",
    "    if i%3==0 and i%5==0:\n",
    "        xs.append(i)\n",
    "    if i%3==0:\n",
    "        xs.append(i)\n",
    "    if i%5==0:\n",
    "        xs.append(i)\n",
    "print(xs)\n"
   ]
  },
  {
   "cell_type": "code",
   "execution_count": 5,
   "metadata": {},
   "outputs": [
    {
     "name": "stdout",
     "output_type": "stream",
     "text": [
      "[500, 501, 502, 503, 504, 505, 506, 507, 508, 509, 510, 511, 512, 513, 514, 515, 516, 517, 518, 519, 520, 521, 522, 523, 524]\n",
      "[500, 503, 506, 509, 512, 515, 518, 521, 524]\n"
     ]
    }
   ],
   "source": [
    "y=list(range(500,525))\n",
    "print(y)\n",
    "xy=[]\n",
    "for i in range(500,526,3):\n",
    "    xy.append(i)\n",
    "print(xy)\n",
    "    \n"
   ]
  },
  {
   "cell_type": "code",
   "execution_count": 7,
   "metadata": {},
   "outputs": [
    {
     "name": "stdout",
     "output_type": "stream",
     "text": [
      "[101, 102, 103, 105, 106, 107, 109, 110, 111, 113, 114, 115, 117, 118, 119, 121, 122, 123]\n"
     ]
    }
   ],
   "source": [
    "x=list(range(100,125))\n",
    "for i,v in enumerate(x):\n",
    "    if i%3==0:\n",
    "        x.pop(i)\n",
    "print(x)"
   ]
  },
  {
   "cell_type": "code",
   "execution_count": 16,
   "metadata": {},
   "outputs": [
    {
     "name": "stdout",
     "output_type": "stream",
     "text": [
      "['zzzzz', 'ssss', 'aaaaa', 'gggg', 'bbbbb']\n",
      "['aaaaa', 'bbbbb', 'gggg', 'ssss', 'zzzzz']\n"
     ]
    }
   ],
   "source": [
    "mov=[]\n",
    "for i in range(0,5):\n",
    "    mov.append(input('enter a movie'))\n",
    "print(mov)\n",
    "mov.sort()\n",
    "print(mov)\n"
   ]
  },
  {
   "cell_type": "markdown",
   "metadata": {},
   "source": [
    "##nested list\n"
   ]
  },
  {
   "cell_type": "code",
   "execution_count": 23,
   "metadata": {},
   "outputs": [
    {
     "ename": "TypeError",
     "evalue": "list.append() takes exactly one argument (3 given)",
     "output_type": "error",
     "traceback": [
      "\u001b[1;31m---------------------------------------------------------------------------\u001b[0m",
      "\u001b[1;31mTypeError\u001b[0m                                 Traceback (most recent call last)",
      "\u001b[1;32mc:\\Users\\mnm80\\Documents\\Python Basic\\slicetest.ipynb Cell 54'\u001b[0m in \u001b[0;36m<cell line: 5>\u001b[1;34m()\u001b[0m\n\u001b[0;32m      <a href='vscode-notebook-cell:/c%3A/Users/mnm80/Documents/Python%20Basic/slicetest.ipynb#ch0000055?line=5'>6</a>\u001b[0m     z\u001b[39m=\u001b[39my\u001b[39m+\u001b[39m\u001b[39m1\u001b[39m\n\u001b[0;32m      <a href='vscode-notebook-cell:/c%3A/Users/mnm80/Documents/Python%20Basic/slicetest.ipynb#ch0000055?line=6'>7</a>\u001b[0m     c\u001b[39m=\u001b[39my\u001b[39m+\u001b[39m\u001b[39m2\u001b[39m\n\u001b[1;32m----> <a href='vscode-notebook-cell:/c%3A/Users/mnm80/Documents/Python%20Basic/slicetest.ipynb#ch0000055?line=7'>8</a>\u001b[0m     x3\u001b[39m.\u001b[39;49mappend([y],[z],[c])\n\u001b[0;32m      <a href='vscode-notebook-cell:/c%3A/Users/mnm80/Documents/Python%20Basic/slicetest.ipynb#ch0000055?line=8'>9</a>\u001b[0m     y\u001b[39m=\u001b[39my\u001b[39m+\u001b[39m\u001b[39m1\u001b[39m\n\u001b[0;32m     <a href='vscode-notebook-cell:/c%3A/Users/mnm80/Documents/Python%20Basic/slicetest.ipynb#ch0000055?line=9'>10</a>\u001b[0m \u001b[39mprint\u001b[39m(x3)\n",
      "\u001b[1;31mTypeError\u001b[0m: list.append() takes exactly one argument (3 given)"
     ]
    }
   ],
   "source": [
    "y=1\n",
    "x3=[]\n",
    "z=0\n",
    "c=0\n",
    "for i in range(5):\n",
    "    z=y+1\n",
    "    c=y+2\n",
    "    x3.append([y],[z],[c])\n",
    "    y=y+1\n",
    "print(x3) "
   ]
  },
  {
   "cell_type": "code",
   "execution_count": 24,
   "metadata": {},
   "outputs": [
    {
     "ename": "TypeError",
     "evalue": "list.append() takes exactly one argument (3 given)",
     "output_type": "error",
     "traceback": [
      "\u001b[1;31m---------------------------------------------------------------------------\u001b[0m",
      "\u001b[1;31mTypeError\u001b[0m                                 Traceback (most recent call last)",
      "\u001b[1;32mc:\\Users\\mnm80\\Documents\\Python Basic\\slicetest.ipynb Cell 55'\u001b[0m in \u001b[0;36m<cell line: 3>\u001b[1;34m()\u001b[0m\n\u001b[0;32m      <a href='vscode-notebook-cell:/c%3A/Users/mnm80/Documents/Python%20Basic/slicetest.ipynb#ch0000056?line=1'>2</a>\u001b[0m x3\u001b[39m=\u001b[39m[]\n\u001b[0;32m      <a href='vscode-notebook-cell:/c%3A/Users/mnm80/Documents/Python%20Basic/slicetest.ipynb#ch0000056?line=2'>3</a>\u001b[0m \u001b[39mfor\u001b[39;00m i \u001b[39min\u001b[39;00m \u001b[39mrange\u001b[39m(\u001b[39m5\u001b[39m):\n\u001b[1;32m----> <a href='vscode-notebook-cell:/c%3A/Users/mnm80/Documents/Python%20Basic/slicetest.ipynb#ch0000056?line=3'>4</a>\u001b[0m     x3\u001b[39m.\u001b[39;49mappend(y,y\u001b[39m+\u001b[39;49m\u001b[39m1\u001b[39;49m,y\u001b[39m+\u001b[39;49m\u001b[39m2\u001b[39;49m)\n\u001b[0;32m      <a href='vscode-notebook-cell:/c%3A/Users/mnm80/Documents/Python%20Basic/slicetest.ipynb#ch0000056?line=4'>5</a>\u001b[0m \u001b[39mprint\u001b[39m(x3)\n",
      "\u001b[1;31mTypeError\u001b[0m: list.append() takes exactly one argument (3 given)"
     ]
    }
   ],
   "source": [
    "y=1\n",
    "x3=[]\n",
    "for i in range(5):\n",
    "    x3.append(y,y+1,y+2)\n",
    "print(x3)"
   ]
  },
  {
   "cell_type": "code",
   "execution_count": 26,
   "metadata": {},
   "outputs": [
    {
     "ename": "IndentationError",
     "evalue": "expected an indented block (566621859.py, line 6)",
     "output_type": "error",
     "traceback": [
      "\u001b[1;36m  Input \u001b[1;32mIn [26]\u001b[1;36m\u001b[0m\n\u001b[1;33m    counter+=1\u001b[0m\n\u001b[1;37m    ^\u001b[0m\n\u001b[1;31mIndentationError\u001b[0m\u001b[1;31m:\u001b[0m expected an indented block\n"
     ]
    }
   ],
   "source": [
    "outer=[]\n",
    "counter=1\n",
    "for i in range(1,4):\n",
    "    inner=[]\n",
    "    for j in range(1,4):\n",
    "    counter+=1\n",
    "    outer.append(inner)\n",
    "print(outer)"
   ]
  }
 ],
 "metadata": {
  "kernelspec": {
   "display_name": "Python 3.9.12 ('base')",
   "language": "python",
   "name": "python3"
  },
  "language_info": {
   "codemirror_mode": {
    "name": "ipython",
    "version": 3
   },
   "file_extension": ".py",
   "mimetype": "text/x-python",
   "name": "python",
   "nbconvert_exporter": "python",
   "pygments_lexer": "ipython3",
   "version": "3.9.12"
  },
  "orig_nbformat": 4,
  "vscode": {
   "interpreter": {
    "hash": "2666ff20fe902e6aa7c9606e6054a1cee1db89db7d920dd20d87e7cdab25ac2b"
   }
  }
 },
 "nbformat": 4,
 "nbformat_minor": 2
}
