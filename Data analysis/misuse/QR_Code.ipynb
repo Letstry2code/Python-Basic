{
 "cells": [
  {
   "cell_type": "code",
   "execution_count": 6,
   "metadata": {},
   "outputs": [],
   "source": [
    "# Importing library\n",
    "import qrcode\n",
    " \n",
    "# Data to encode\n",
    "data = \"https://www.facebook.com/nawabsaab121\"\n",
    " \n",
    "# Creating an instance of QRCode class\n",
    "qr = qrcode.QRCode(version = 1,\n",
    "                   box_size = 10,\n",
    "                   border = 5)\n",
    " \n",
    "# Adding data to the instance 'qr'\n",
    "qr.add_data(data)\n",
    " \n",
    "qr.make(fit = True)\n",
    "img = qr.make_image(fill_color = 'violet',\n",
    "                    back_color = 'white')\n",
    " \n",
    "img.save('MyQRCode2.png')"
   ]
  }
 ],
 "metadata": {
  "kernelspec": {
   "display_name": "Python 3.9.12 ('base')",
   "language": "python",
   "name": "python3"
  },
  "language_info": {
   "codemirror_mode": {
    "name": "ipython",
    "version": 3
   },
   "file_extension": ".py",
   "mimetype": "text/x-python",
   "name": "python",
   "nbconvert_exporter": "python",
   "pygments_lexer": "ipython3",
   "version": "3.9.12"
  },
  "orig_nbformat": 4,
  "vscode": {
   "interpreter": {
    "hash": "2666ff20fe902e6aa7c9606e6054a1cee1db89db7d920dd20d87e7cdab25ac2b"
   }
  }
 },
 "nbformat": 4,
 "nbformat_minor": 2
}
