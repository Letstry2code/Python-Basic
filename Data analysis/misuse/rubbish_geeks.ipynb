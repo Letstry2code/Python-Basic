{
 "cells": [
  {
   "cell_type": "code",
   "execution_count": 1,
   "metadata": {},
   "outputs": [
    {
     "ename": "",
     "evalue": "",
     "output_type": "error",
     "traceback": [
      "\u001b[1;31mThe Kernel crashed while executing code in the the current cell or a previous cell. Please review the code in the cell(s) to identify a possible cause of the failure. Click <a href='https://aka.ms/vscodeJupyterKernelCrash'>here</a> for more info. View Jupyter <a href='command:jupyter.viewOutput'>log</a> for further details."
     ]
    }
   ],
   "source": [
    "\n",
    "# Import turtle package\n",
    "import turtle\n",
    "  \n",
    "# Creating a turtle object(pen)\n",
    "pen = turtle.Turtle()\n",
    "  \n",
    "# Defining a method to draw curve\n",
    "def curve():\n",
    "    for i in range(200):\n",
    "  \n",
    "        # Defining step by step curve motion\n",
    "        pen.right(1)\n",
    "        pen.forward(1)\n",
    "  \n",
    "# Defining method to draw a full heart\n",
    "def heart():\n",
    "  \n",
    "    # Set the fill color to red\n",
    "    pen.fillcolor('red')\n",
    "  \n",
    "    # Start filling the color\n",
    "    pen.begin_fill()\n",
    "  \n",
    "    # Draw the left line\n",
    "    pen.left(140)\n",
    "    pen.forward(113)\n",
    "  \n",
    "    # Draw the left curve\n",
    "    curve()\n",
    "    pen.left(120)\n",
    "  \n",
    "    # Draw the right curve\n",
    "    curve()\n",
    "  \n",
    "    # Draw the right line\n",
    "    pen.forward(112)\n",
    "  \n",
    "    # Ending the filling of the color\n",
    "    pen.end_fill()\n",
    "  \n",
    "# Defining method to write text\n",
    "def txt():\n",
    "  \n",
    "    # Move turtle to air\n",
    "    pen.up()\n",
    "  \n",
    "    # Move turtle to a given position\n",
    "    pen.setpos(-68, 95)\n",
    "  \n",
    "    # Move the turtle to the ground\n",
    "    pen.down()\n",
    "  \n",
    "    # Set the text color to lightgreen\n",
    "    pen.color('lightgreen')\n",
    "  \n",
    "    # Write the specified text in \n",
    "    # specified font style and size\n",
    "    pen.write(\"In Some other multiverse\", font=(\n",
    "      \"Verdana\", 12, \"bold\"))\n",
    "  \n",
    "  \n",
    "# Draw a heart\n",
    "heart()\n",
    "  \n",
    "# Write text\n",
    "txt()\n",
    "  \n",
    "# To hide turtle\n",
    "pen.ht()"
   ]
  }
 ],
 "metadata": {
  "kernelspec": {
   "display_name": "Python 3.9.12 ('base')",
   "language": "python",
   "name": "python3"
  },
  "language_info": {
   "codemirror_mode": {
    "name": "ipython",
    "version": 3
   },
   "file_extension": ".py",
   "mimetype": "text/x-python",
   "name": "python",
   "nbconvert_exporter": "python",
   "pygments_lexer": "ipython3",
   "version": "3.9.12"
  },
  "orig_nbformat": 4,
  "vscode": {
   "interpreter": {
    "hash": "2666ff20fe902e6aa7c9606e6054a1cee1db89db7d920dd20d87e7cdab25ac2b"
   }
  }
 },
 "nbformat": 4,
 "nbformat_minor": 2
}
