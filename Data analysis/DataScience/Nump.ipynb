{
 "cells": [
  {
   "cell_type": "code",
   "execution_count": 1,
   "metadata": {},
   "outputs": [],
   "source": [
    "# For numpy"
   ]
  },
  {
   "cell_type": "code",
   "execution_count": 2,
   "metadata": {},
   "outputs": [],
   "source": [
    "import numpy as np\n"
   ]
  },
  {
   "cell_type": "code",
   "execution_count": 4,
   "metadata": {},
   "outputs": [],
   "source": [
    "x=0"
   ]
  },
  {
   "cell_type": "markdown",
   "metadata": {},
   "source": [
    "# Num Mat"
   ]
  },
  {
   "cell_type": "code",
   "execution_count": 7,
   "metadata": {},
   "outputs": [
    {
     "name": "stdout",
     "output_type": "stream",
     "text": [
      "[[1 2]\n",
      " [4 5]]\n",
      "[[6 7]\n",
      " [8 9]]\n"
     ]
    }
   ],
   "source": [
    "x=np.array([[1,2],[4,5]])\n",
    "y=np.array([[6,7],[8,9]])\n",
    "print(x)\n",
    "print(y)"
   ]
  },
  {
   "cell_type": "code",
   "execution_count": 8,
   "metadata": {},
   "outputs": [
    {
     "name": "stdout",
     "output_type": "stream",
     "text": [
      "[[ 6 14]\n",
      " [32 45]]\n"
     ]
    }
   ],
   "source": [
    "print(x*y)"
   ]
  },
  {
   "cell_type": "code",
   "execution_count": 9,
   "metadata": {},
   "outputs": [
    {
     "data": {
      "text/plain": [
       "array([[ 7,  9],\n",
       "       [12, 14]])"
      ]
     },
     "execution_count": 9,
     "metadata": {},
     "output_type": "execute_result"
    }
   ],
   "source": [
    "x+y"
   ]
  },
  {
   "cell_type": "code",
   "execution_count": 10,
   "metadata": {},
   "outputs": [
    {
     "data": {
      "text/plain": [
       "array([[0.16666667, 0.28571429],\n",
       "       [0.5       , 0.55555556]])"
      ]
     },
     "execution_count": 10,
     "metadata": {},
     "output_type": "execute_result"
    }
   ],
   "source": [
    "x/y"
   ]
  },
  {
   "cell_type": "code",
   "execution_count": 11,
   "metadata": {},
   "outputs": [
    {
     "name": "stdout",
     "output_type": "stream",
     "text": [
      "[[ 6 14]\n",
      " [32 45]]\n"
     ]
    }
   ],
   "source": [
    "z=x*y\n",
    "print(z)"
   ]
  },
  {
   "cell_type": "code",
   "execution_count": 12,
   "metadata": {},
   "outputs": [
    {
     "data": {
      "text/plain": [
       "array([[22, 25],\n",
       "       [64, 73]])"
      ]
     },
     "execution_count": 12,
     "metadata": {},
     "output_type": "execute_result"
    }
   ],
   "source": [
    "np.dot(x,y)"
   ]
  },
  {
   "cell_type": "code",
   "execution_count": 13,
   "metadata": {},
   "outputs": [
    {
     "data": {
      "text/plain": [
       "array([-5, -4])"
      ]
     },
     "execution_count": 13,
     "metadata": {},
     "output_type": "execute_result"
    }
   ],
   "source": [
    "np.cross(x,y)"
   ]
  },
  {
   "cell_type": "code",
   "execution_count": 15,
   "metadata": {},
   "outputs": [],
   "source": [
    "a=np.array([[1,2],[2,1]])\n",
    "b=np.array([[3,3],[2,2]])\n"
   ]
  },
  {
   "cell_type": "code",
   "execution_count": 17,
   "metadata": {},
   "outputs": [
    {
     "name": "stdout",
     "output_type": "stream",
     "text": [
      "[-3  2]\n",
      "[[7 7]\n",
      " [8 8]]\n"
     ]
    }
   ],
   "source": [
    "print(np.cross(a,b))\n",
    "print(np.dot(a,b))"
   ]
  },
  {
   "cell_type": "code",
   "execution_count": 18,
   "metadata": {},
   "outputs": [
    {
     "name": "stdout",
     "output_type": "stream",
     "text": [
      "[[85 83 43 18 77 10  6]\n",
      " [ 9 24 85  0  9 32 48]\n",
      " [48 71 52  0 21 76 38]\n",
      " [52  4 13 90 58 64 74]\n",
      " [70 53 25 78 15 65 91]]\n"
     ]
    }
   ],
   "source": [
    "c=np.random.randint(0,100,(5,7))\n",
    "print(c)"
   ]
  },
  {
   "cell_type": "code",
   "execution_count": 19,
   "metadata": {},
   "outputs": [
    {
     "name": "stdout",
     "output_type": "stream",
     "text": [
      "1587\n"
     ]
    }
   ],
   "source": [
    "print(c.sum())"
   ]
  },
  {
   "cell_type": "code",
   "execution_count": 21,
   "metadata": {},
   "outputs": [
    {
     "name": "stdout",
     "output_type": "stream",
     "text": [
      "[264 235 218 186 180 247 257]\n",
      "[322 207 306 355 397]\n"
     ]
    }
   ],
   "source": [
    "print(c.sum(axis=0))  # 0 across column \n",
    "print(c.sum(axis=1))  # 1 across rows"
   ]
  },
  {
   "cell_type": "code",
   "execution_count": 22,
   "metadata": {},
   "outputs": [
    {
     "name": "stdout",
     "output_type": "stream",
     "text": [
      "45.34285714285714\n"
     ]
    }
   ],
   "source": [
    "print(c.mean())"
   ]
  },
  {
   "cell_type": "code",
   "execution_count": 23,
   "metadata": {},
   "outputs": [
    {
     "name": "stdout",
     "output_type": "stream",
     "text": [
      "[52.8 47.  43.6 37.2 36.  49.4 51.4]\n",
      "[46.         29.57142857 43.71428571 50.71428571 56.71428571]\n"
     ]
    }
   ],
   "source": [
    "print(c.mean(axis=0))\n",
    "print(c.mean(axis=1))"
   ]
  },
  {
   "cell_type": "code",
   "execution_count": 24,
   "metadata": {},
   "outputs": [
    {
     "data": {
      "text/plain": [
       "array([[-0.17607562,  0.96836446, -0.83177474, -0.75098725,  0.99952016,\n",
       "        -0.54402111, -0.2794155 ],\n",
       "       [ 0.41211849, -0.90557836, -0.17607562,  0.        ,  0.41211849,\n",
       "         0.55142668, -0.76825466],\n",
       "       [-0.76825466,  0.95105465,  0.98662759,  0.        ,  0.83665564,\n",
       "         0.56610764,  0.29636858],\n",
       "       [ 0.98662759, -0.7568025 ,  0.42016704,  0.89399666,  0.99287265,\n",
       "         0.92002604, -0.98514626],\n",
       "       [ 0.77389068,  0.39592515, -0.13235175,  0.51397846,  0.65028784,\n",
       "         0.82682868,  0.10598751]])"
      ]
     },
     "execution_count": 24,
     "metadata": {},
     "output_type": "execute_result"
    }
   ],
   "source": [
    "np.sin(c)"
   ]
  },
  {
   "cell_type": "code",
   "execution_count": 25,
   "metadata": {},
   "outputs": [
    {
     "name": "stderr",
     "output_type": "stream",
     "text": [
      "C:\\Users\\KumarCha05\\AppData\\Local\\Temp\\ipykernel_176680\\2814158553.py:1: RuntimeWarning: divide by zero encountered in log10\n",
      "  np.log10(c)\n"
     ]
    },
    {
     "data": {
      "text/plain": [
       "array([[1.92941893, 1.91907809, 1.63346846, 1.25527251, 1.88649073,\n",
       "        1.        , 0.77815125],\n",
       "       [0.95424251, 1.38021124, 1.92941893,       -inf, 0.95424251,\n",
       "        1.50514998, 1.68124124],\n",
       "       [1.68124124, 1.85125835, 1.71600334,       -inf, 1.32221929,\n",
       "        1.88081359, 1.5797836 ],\n",
       "       [1.71600334, 0.60205999, 1.11394335, 1.95424251, 1.76342799,\n",
       "        1.80617997, 1.86923172],\n",
       "       [1.84509804, 1.72427587, 1.39794001, 1.8920946 , 1.17609126,\n",
       "        1.81291336, 1.95904139]])"
      ]
     },
     "execution_count": 25,
     "metadata": {},
     "output_type": "execute_result"
    }
   ],
   "source": [
    "np.log10(c)"
   ]
  },
  {
   "cell_type": "markdown",
   "metadata": {},
   "source": [
    "# Boolean Filter\n"
   ]
  },
  {
   "cell_type": "code",
   "execution_count": 26,
   "metadata": {},
   "outputs": [
    {
     "name": "stdout",
     "output_type": "stream",
     "text": [
      "[[19 74 84 51 42 41  6 63 11 99 58 11 53 58 59]\n",
      " [99 26 36  5 59 24 12 41 95 15 14 94 45 28 28]\n",
      " [94 66 74 48 44 46  6 66 62 59 75 35 30 89 91]\n",
      " [34 15 20 58 29 16 47  4 99 66 18 91 15 22 86]\n",
      " [47 91 54 26 71  1 89 66 51 76 46 78  0 60 47]\n",
      " [54 20 52 87 57 56 23 61 84 63 98 37 36 43 11]\n",
      " [58 10 19 25  0 69 19 65 84 29 85 43  8 82 31]\n",
      " [54 69 86 33 15 36 12 91 24 99 72 32 23 72 94]]\n"
     ]
    }
   ],
   "source": [
    "x=np.random.randint(0,100,(8,15))\n",
    "print(x)\n"
   ]
  },
  {
   "cell_type": "code",
   "execution_count": 27,
   "metadata": {},
   "outputs": [
    {
     "data": {
      "text/plain": [
       "array([[False,  True,  True,  True, False, False, False,  True, False,\n",
       "         True,  True, False,  True,  True,  True],\n",
       "       [ True, False, False, False,  True, False, False, False,  True,\n",
       "        False, False,  True, False, False, False],\n",
       "       [ True,  True,  True, False, False, False, False,  True,  True,\n",
       "         True,  True, False, False,  True,  True],\n",
       "       [False, False, False,  True, False, False, False, False,  True,\n",
       "         True, False,  True, False, False,  True],\n",
       "       [False,  True,  True, False,  True, False,  True,  True,  True,\n",
       "         True, False,  True, False,  True, False],\n",
       "       [ True, False,  True,  True,  True,  True, False,  True,  True,\n",
       "         True,  True, False, False, False, False],\n",
       "       [ True, False, False, False, False,  True, False,  True,  True,\n",
       "        False,  True, False, False,  True, False],\n",
       "       [ True,  True,  True, False, False, False, False,  True, False,\n",
       "         True,  True, False, False,  True,  True]])"
      ]
     },
     "execution_count": 27,
     "metadata": {},
     "output_type": "execute_result"
    }
   ],
   "source": [
    "x>50  # Just for display"
   ]
  },
  {
   "cell_type": "code",
   "execution_count": 28,
   "metadata": {},
   "outputs": [
    {
     "data": {
      "text/plain": [
       "array([74, 84, 51, 63, 99, 58, 53, 58, 59, 99, 59, 95, 94, 94, 66, 74, 66,\n",
       "       62, 59, 75, 89, 91, 58, 99, 66, 91, 86, 91, 54, 71, 89, 66, 51, 76,\n",
       "       78, 60, 54, 52, 87, 57, 56, 61, 84, 63, 98, 58, 69, 65, 84, 85, 82,\n",
       "       54, 69, 86, 91, 99, 72, 72, 94])"
      ]
     },
     "execution_count": 28,
     "metadata": {},
     "output_type": "execute_result"
    }
   ],
   "source": [
    "x[x>50] #displays the values greater than 50"
   ]
  },
  {
   "cell_type": "code",
   "execution_count": 29,
   "metadata": {},
   "outputs": [
    {
     "data": {
      "text/plain": [
       "array([19,  6, 11, 11,  5, 12, 15, 14,  6, 15, 16,  4, 18, 15,  1,  0, 11,\n",
       "       10, 19,  0, 19,  8, 15, 12])"
      ]
     },
     "execution_count": 29,
     "metadata": {},
     "output_type": "execute_result"
    }
   ],
   "source": [
    "x[x<20]"
   ]
  },
  {
   "cell_type": "code",
   "execution_count": 31,
   "metadata": {},
   "outputs": [
    {
     "data": {
      "text/plain": [
       "array([42, 41, 26, 36, 24, 41, 45, 28, 28, 48, 44, 46, 35, 30, 34, 29, 47,\n",
       "       22, 47, 26, 46, 47, 23, 37, 36, 43, 25, 29, 43, 31, 33, 36, 24, 32,\n",
       "       23])"
      ]
     },
     "execution_count": 31,
     "metadata": {},
     "output_type": "execute_result"
    }
   ],
   "source": [
    "f1=x>20\n",
    "f2=x<50\n",
    "x[f1&f2]"
   ]
  },
  {
   "cell_type": "code",
   "execution_count": null,
   "metadata": {},
   "outputs": [],
   "source": []
  }
 ],
 "metadata": {
  "kernelspec": {
   "display_name": "Python 3.9.12 ('base')",
   "language": "python",
   "name": "python3"
  },
  "language_info": {
   "codemirror_mode": {
    "name": "ipython",
    "version": 3
   },
   "file_extension": ".py",
   "mimetype": "text/x-python",
   "name": "python",
   "nbconvert_exporter": "python",
   "pygments_lexer": "ipython3",
   "version": "3.9.12"
  },
  "orig_nbformat": 4,
  "vscode": {
   "interpreter": {
    "hash": "2666ff20fe902e6aa7c9606e6054a1cee1db89db7d920dd20d87e7cdab25ac2b"
   }
  }
 },
 "nbformat": 4,
 "nbformat_minor": 2
}
