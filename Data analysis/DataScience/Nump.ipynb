{
 "cells": [
  {
   "cell_type": "code",
   "execution_count": 25,
   "metadata": {},
   "outputs": [],
   "source": [
    "# For numpy"
   ]
  },
  {
   "cell_type": "code",
   "execution_count": 26,
   "metadata": {},
   "outputs": [],
   "source": [
    "import numpy as np\n"
   ]
  },
  {
   "cell_type": "code",
   "execution_count": 27,
   "metadata": {},
   "outputs": [],
   "source": [
    "x=0"
   ]
  },
  {
   "cell_type": "markdown",
   "metadata": {},
   "source": [
    "# Num Mat"
   ]
  },
  {
   "cell_type": "code",
   "execution_count": 28,
   "metadata": {},
   "outputs": [
    {
     "name": "stdout",
     "output_type": "stream",
     "text": [
      "[[1 2]\n",
      " [4 5]]\n",
      "[[6 7]\n",
      " [8 9]]\n"
     ]
    }
   ],
   "source": [
    "x=np.array([[1,2],[4,5]])\n",
    "y=np.array([[6,7],[8,9]])\n",
    "print(x)\n",
    "print(y)"
   ]
  },
  {
   "cell_type": "code",
   "execution_count": 29,
   "metadata": {},
   "outputs": [
    {
     "name": "stdout",
     "output_type": "stream",
     "text": [
      "[[ 6 14]\n",
      " [32 45]]\n"
     ]
    }
   ],
   "source": [
    "print(x*y)"
   ]
  },
  {
   "cell_type": "code",
   "execution_count": 30,
   "metadata": {},
   "outputs": [
    {
     "data": {
      "text/plain": [
       "array([[ 7,  9],\n",
       "       [12, 14]])"
      ]
     },
     "execution_count": 30,
     "metadata": {},
     "output_type": "execute_result"
    }
   ],
   "source": [
    "x+y"
   ]
  },
  {
   "cell_type": "code",
   "execution_count": 31,
   "metadata": {},
   "outputs": [
    {
     "data": {
      "text/plain": [
       "array([[0.16666667, 0.28571429],\n",
       "       [0.5       , 0.55555556]])"
      ]
     },
     "execution_count": 31,
     "metadata": {},
     "output_type": "execute_result"
    }
   ],
   "source": [
    "x/y"
   ]
  },
  {
   "cell_type": "code",
   "execution_count": 32,
   "metadata": {},
   "outputs": [
    {
     "name": "stdout",
     "output_type": "stream",
     "text": [
      "[[ 6 14]\n",
      " [32 45]]\n"
     ]
    }
   ],
   "source": [
    "z=x*y\n",
    "print(z)"
   ]
  },
  {
   "cell_type": "code",
   "execution_count": 33,
   "metadata": {},
   "outputs": [
    {
     "data": {
      "text/plain": [
       "array([[22, 25],\n",
       "       [64, 73]])"
      ]
     },
     "execution_count": 33,
     "metadata": {},
     "output_type": "execute_result"
    }
   ],
   "source": [
    "np.dot(x,y)"
   ]
  },
  {
   "cell_type": "code",
   "execution_count": 34,
   "metadata": {},
   "outputs": [
    {
     "data": {
      "text/plain": [
       "array([-5, -4])"
      ]
     },
     "execution_count": 34,
     "metadata": {},
     "output_type": "execute_result"
    }
   ],
   "source": [
    "np.cross(x,y)"
   ]
  },
  {
   "cell_type": "code",
   "execution_count": 35,
   "metadata": {},
   "outputs": [],
   "source": [
    "a=np.array([[1,2],[2,1]])\n",
    "b=np.array([[3,3],[2,2]])\n"
   ]
  },
  {
   "cell_type": "code",
   "execution_count": 36,
   "metadata": {},
   "outputs": [
    {
     "name": "stdout",
     "output_type": "stream",
     "text": [
      "[-3  2]\n",
      "[[7 7]\n",
      " [8 8]]\n"
     ]
    }
   ],
   "source": [
    "print(np.cross(a,b))\n",
    "print(np.dot(a,b))"
   ]
  },
  {
   "cell_type": "code",
   "execution_count": 37,
   "metadata": {},
   "outputs": [
    {
     "name": "stdout",
     "output_type": "stream",
     "text": [
      "[[78 38 89 39 57 44 27]\n",
      " [37 55 20 65  6  5  7]\n",
      " [54 48 16 69 97 99  9]\n",
      " [64 65 41 52 37  0 31]\n",
      " [77 92 43 70 66  9 53]]\n"
     ]
    }
   ],
   "source": [
    "c=np.random.randint(0,100,(5,7))\n",
    "print(c)"
   ]
  },
  {
   "cell_type": "code",
   "execution_count": 38,
   "metadata": {},
   "outputs": [
    {
     "name": "stdout",
     "output_type": "stream",
     "text": [
      "1659\n"
     ]
    }
   ],
   "source": [
    "print(c.sum())"
   ]
  },
  {
   "cell_type": "code",
   "execution_count": 39,
   "metadata": {},
   "outputs": [
    {
     "name": "stdout",
     "output_type": "stream",
     "text": [
      "[310 298 209 295 263 157 127]\n",
      "[372 195 392 290 410]\n"
     ]
    }
   ],
   "source": [
    "print(c.sum(axis=0))  # 0 across column \n",
    "print(c.sum(axis=1))  # 1 across rows"
   ]
  },
  {
   "cell_type": "code",
   "execution_count": 40,
   "metadata": {},
   "outputs": [
    {
     "name": "stdout",
     "output_type": "stream",
     "text": [
      "47.4\n"
     ]
    }
   ],
   "source": [
    "print(c.mean())"
   ]
  },
  {
   "cell_type": "code",
   "execution_count": 41,
   "metadata": {},
   "outputs": [
    {
     "name": "stdout",
     "output_type": "stream",
     "text": [
      "[62.  59.6 41.8 59.  52.6 31.4 25.4]\n",
      "[53.14285714 27.85714286 56.         41.42857143 58.57142857]\n"
     ]
    }
   ],
   "source": [
    "print(c.mean(axis=0))\n",
    "print(c.mean(axis=1))"
   ]
  },
  {
   "cell_type": "code",
   "execution_count": 42,
   "metadata": {},
   "outputs": [
    {
     "data": {
      "text/plain": [
       "array([[ 0.51397846,  0.29636858,  0.86006941,  0.96379539,  0.43616476,\n",
       "         0.01770193,  0.95637593],\n",
       "       [-0.64353813, -0.99975517,  0.91294525,  0.82682868, -0.2794155 ,\n",
       "        -0.95892427,  0.6569866 ],\n",
       "       [-0.55878905, -0.76825466, -0.28790332, -0.11478481,  0.37960774,\n",
       "        -0.99920683,  0.41211849],\n",
       "       [ 0.92002604,  0.82682868, -0.15862267,  0.98662759, -0.64353813,\n",
       "         0.        , -0.40403765],\n",
       "       [ 0.99952016, -0.77946607, -0.83177474,  0.77389068, -0.02655115,\n",
       "         0.41211849,  0.39592515]])"
      ]
     },
     "execution_count": 42,
     "metadata": {},
     "output_type": "execute_result"
    }
   ],
   "source": [
    "np.sin(c)"
   ]
  },
  {
   "cell_type": "code",
   "execution_count": 43,
   "metadata": {},
   "outputs": [
    {
     "name": "stderr",
     "output_type": "stream",
     "text": [
      "C:\\Users\\KumarCha05\\AppData\\Local\\Temp\\ipykernel_23872\\2814158553.py:1: RuntimeWarning: divide by zero encountered in log10\n",
      "  np.log10(c)\n"
     ]
    },
    {
     "data": {
      "text/plain": [
       "array([[1.8920946 , 1.5797836 , 1.94939001, 1.59106461, 1.75587486,\n",
       "        1.64345268, 1.43136376],\n",
       "       [1.56820172, 1.74036269, 1.30103   , 1.81291336, 0.77815125,\n",
       "        0.69897   , 0.84509804],\n",
       "       [1.73239376, 1.68124124, 1.20411998, 1.83884909, 1.98677173,\n",
       "        1.99563519, 0.95424251],\n",
       "       [1.80617997, 1.81291336, 1.61278386, 1.71600334, 1.56820172,\n",
       "              -inf, 1.49136169],\n",
       "       [1.88649073, 1.96378783, 1.63346846, 1.84509804, 1.81954394,\n",
       "        0.95424251, 1.72427587]])"
      ]
     },
     "execution_count": 43,
     "metadata": {},
     "output_type": "execute_result"
    }
   ],
   "source": [
    "np.log10(c)"
   ]
  },
  {
   "cell_type": "markdown",
   "metadata": {},
   "source": [
    "# Boolean Filter\n"
   ]
  },
  {
   "cell_type": "code",
   "execution_count": 44,
   "metadata": {},
   "outputs": [
    {
     "name": "stdout",
     "output_type": "stream",
     "text": [
      "[[18  7 36 86 27 73 96 86 77 83 64 97 16 89 45]\n",
      " [78 33 73 50 50 17 56 93 89 10 50 80 75  9 11]\n",
      " [18 97 74 77 76 13 11  5 98 95 78 97 58 68 50]\n",
      " [78 10 87 55 98 10 53 62 99 50 65 33 43 51 25]\n",
      " [ 6 88 71  8 30 46 54 61 35  4 25 87 67 48 62]\n",
      " [24 90 60 23 56 60 30 54 50 56 86 33 24 34 47]\n",
      " [96  8 65 89 59 56 30 39 83 55 96 45 31  3  1]\n",
      " [84 40 50 48 59 52 30 72 67 67 52 88 73 63  8]]\n"
     ]
    }
   ],
   "source": [
    "x=np.random.randint(0,100,(8,15))\n",
    "print(x)\n"
   ]
  },
  {
   "cell_type": "code",
   "execution_count": 45,
   "metadata": {},
   "outputs": [
    {
     "data": {
      "text/plain": [
       "array([[False, False, False,  True, False,  True,  True,  True,  True,\n",
       "         True,  True,  True, False,  True, False],\n",
       "       [ True, False,  True, False, False, False,  True,  True,  True,\n",
       "        False, False,  True,  True, False, False],\n",
       "       [False,  True,  True,  True,  True, False, False, False,  True,\n",
       "         True,  True,  True,  True,  True, False],\n",
       "       [ True, False,  True,  True,  True, False,  True,  True,  True,\n",
       "        False,  True, False, False,  True, False],\n",
       "       [False,  True,  True, False, False, False,  True,  True, False,\n",
       "        False, False,  True,  True, False,  True],\n",
       "       [False,  True,  True, False,  True,  True, False,  True, False,\n",
       "         True,  True, False, False, False, False],\n",
       "       [ True, False,  True,  True,  True,  True, False, False,  True,\n",
       "         True,  True, False, False, False, False],\n",
       "       [ True, False, False, False,  True,  True, False,  True,  True,\n",
       "         True,  True,  True,  True,  True, False]])"
      ]
     },
     "execution_count": 45,
     "metadata": {},
     "output_type": "execute_result"
    }
   ],
   "source": [
    "x>50  # Just for display"
   ]
  },
  {
   "cell_type": "code",
   "execution_count": 46,
   "metadata": {},
   "outputs": [
    {
     "data": {
      "text/plain": [
       "array([86, 73, 96, 86, 77, 83, 64, 97, 89, 78, 73, 56, 93, 89, 80, 75, 97,\n",
       "       74, 77, 76, 98, 95, 78, 97, 58, 68, 78, 87, 55, 98, 53, 62, 99, 65,\n",
       "       51, 88, 71, 54, 61, 87, 67, 62, 90, 60, 56, 60, 54, 56, 86, 96, 65,\n",
       "       89, 59, 56, 83, 55, 96, 84, 59, 52, 72, 67, 67, 52, 88, 73, 63])"
      ]
     },
     "execution_count": 46,
     "metadata": {},
     "output_type": "execute_result"
    }
   ],
   "source": [
    "x[x>50] #displays the values greater than 50"
   ]
  },
  {
   "cell_type": "code",
   "execution_count": 47,
   "metadata": {},
   "outputs": [
    {
     "data": {
      "text/plain": [
       "array([18,  7, 16, 17, 10,  9, 11, 18, 13, 11,  5, 10, 10,  6,  8,  4,  8,\n",
       "        3,  1,  8])"
      ]
     },
     "execution_count": 47,
     "metadata": {},
     "output_type": "execute_result"
    }
   ],
   "source": [
    "x[x<20]"
   ]
  },
  {
   "cell_type": "code",
   "execution_count": 48,
   "metadata": {},
   "outputs": [
    {
     "data": {
      "text/plain": [
       "array([36, 27, 45, 33, 33, 43, 25, 30, 46, 35, 25, 48, 24, 23, 30, 33, 24,\n",
       "       34, 47, 30, 39, 45, 31, 40, 48, 30])"
      ]
     },
     "execution_count": 48,
     "metadata": {},
     "output_type": "execute_result"
    }
   ],
   "source": [
    "f1=x>20\n",
    "f2=x<50\n",
    "x[f1&f2]"
   ]
  }
 ],
 "metadata": {
  "kernelspec": {
   "display_name": "Python 3.9.12 ('base')",
   "language": "python",
   "name": "python3"
  },
  "language_info": {
   "codemirror_mode": {
    "name": "ipython",
    "version": 3
   },
   "file_extension": ".py",
   "mimetype": "text/x-python",
   "name": "python",
   "nbconvert_exporter": "python",
   "pygments_lexer": "ipython3",
   "version": "3.9.12"
  },
  "orig_nbformat": 4,
  "vscode": {
   "interpreter": {
    "hash": "2666ff20fe902e6aa7c9606e6054a1cee1db89db7d920dd20d87e7cdab25ac2b"
   }
  }
 },
 "nbformat": 4,
 "nbformat_minor": 2
}
