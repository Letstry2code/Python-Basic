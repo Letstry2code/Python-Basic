{
  "nbformat": 4,
  "nbformat_minor": 0,
  "metadata": {
    "colab": {
      "name": "set and dictionary.ipynb",
      "provenance": [],
      "include_colab_link": true
    },
    "kernelspec": {
      "name": "python3",
      "display_name": "Python 3"
    },
    "language_info": {
      "name": "python"
    }
  },
  "cells": [
    {
      "cell_type": "markdown",
      "metadata": {
        "id": "view-in-github",
        "colab_type": "text"
      },
      "source": [
        "<a href=\"https://colab.research.google.com/github/Letstry2code/Python-Basic/blob/main/set_and_dictionary.ipynb\" target=\"_parent\"><img src=\"https://colab.research.google.com/assets/colab-badge.svg\" alt=\"Open In Colab\"/></a>"
      ]
    },
    {
      "cell_type": "code",
      "execution_count": null,
      "metadata": {
        "colab": {
          "base_uri": "https://localhost:8080/"
        },
        "id": "B9N7BdT9FiDt",
        "outputId": "5b6ed9f4-17b7-4953-af93-c8992920380e"
      },
      "outputs": [
        {
          "output_type": "stream",
          "name": "stdout",
          "text": [
            "{1, 2, 3, 4}\n"
          ]
        }
      ],
      "source": [
        "my_set={1,2,3,4}\n",
        "print(my_set)"
      ]
    },
    {
      "cell_type": "code",
      "source": [
        "frnds={'lallan','Bellan','Kaha','jeeefa'}\n",
        "print(frnds)"
      ],
      "metadata": {
        "colab": {
          "base_uri": "https://localhost:8080/"
        },
        "id": "1w3BnOkCGVOH",
        "outputId": "18cd95a3-beab-46a6-a166-f230577fd169"
      },
      "execution_count": null,
      "outputs": [
        {
          "output_type": "stream",
          "name": "stdout",
          "text": [
            "{'jeeefa', 'lallan', 'Kaha', 'Bellan'}\n"
          ]
        }
      ]
    },
    {
      "cell_type": "code",
      "source": [
        "a=set()\n",
        "print(type(a))"
      ],
      "metadata": {
        "colab": {
          "base_uri": "https://localhost:8080/"
        },
        "id": "VoM6LBHlG3Xp",
        "outputId": "8487a688-fd6e-45eb-8ccb-eeceeca286a3"
      },
      "execution_count": null,
      "outputs": [
        {
          "output_type": "stream",
          "name": "stdout",
          "text": [
            "<class 'set'>\n"
          ]
        }
      ]
    },
    {
      "cell_type": "code",
      "source": [
        "my_set.add(2)\n",
        "print(my_set)"
      ],
      "metadata": {
        "colab": {
          "base_uri": "https://localhost:8080/"
        },
        "id": "FuMwTHsfHeFu",
        "outputId": "9c83fe6e-7b4f-4ac5-c6d0-ae730e1ed306"
      },
      "execution_count": null,
      "outputs": [
        {
          "output_type": "stream",
          "name": "stdout",
          "text": [
            "{1, 2, 3, 4, 5, 6, 8}\n"
          ]
        }
      ]
    },
    {
      "cell_type": "code",
      "source": [
        "my_set.update([4,5],{1,6,8})\n",
        "print(my_set)"
      ],
      "metadata": {
        "colab": {
          "base_uri": "https://localhost:8080/"
        },
        "id": "8Bc72x_CHk5U",
        "outputId": "a7502380-30a6-4c59-cf63-fde88fce9d39"
      },
      "execution_count": null,
      "outputs": [
        {
          "output_type": "stream",
          "name": "stdout",
          "text": [
            "{1, 2, 3, 4, 5, 6, 8}\n"
          ]
        }
      ]
    },
    {
      "cell_type": "code",
      "source": [
        "my_set.discard(4) \n",
        "print(my_set)"
      ],
      "metadata": {
        "colab": {
          "base_uri": "https://localhost:8080/"
        },
        "id": "DP-AR_UfIkbz",
        "outputId": "193207cc-6b9a-44e9-aa2a-e5b9bb357c65"
      },
      "execution_count": null,
      "outputs": [
        {
          "output_type": "stream",
          "name": "stdout",
          "text": [
            "{1, 2, 3, 5, 6, 8}\n"
          ]
        }
      ]
    },
    {
      "cell_type": "code",
      "source": [
        "my_set.discard(111)  ##Doesnt Give Error##\n",
        "print(my_set)"
      ],
      "metadata": {
        "colab": {
          "base_uri": "https://localhost:8080/"
        },
        "id": "SqeCrkLJJBxo",
        "outputId": "8ba1ac7c-d587-48f0-cac0-49451f1dc5dc"
      },
      "execution_count": null,
      "outputs": [
        {
          "output_type": "stream",
          "name": "stdout",
          "text": [
            "{1, 2, 3, 5, 6, 8}\n"
          ]
        }
      ]
    },
    {
      "cell_type": "code",
      "source": [
        "my_set.remove(9) ## Gives Error##\n",
        "print(my_set)"
      ],
      "metadata": {
        "colab": {
          "base_uri": "https://localhost:8080/",
          "height": 183
        },
        "id": "Nk01ZH8uI2Wr",
        "outputId": "6acdaa92-80ce-4827-bfb4-5c0375c32326"
      },
      "execution_count": null,
      "outputs": [
        {
          "output_type": "error",
          "ename": "KeyError",
          "evalue": "ignored",
          "traceback": [
            "\u001b[0;31m---------------------------------------------------------------------------\u001b[0m",
            "\u001b[0;31mKeyError\u001b[0m                                  Traceback (most recent call last)",
            "\u001b[0;32m<ipython-input-15-8629b2ef26e8>\u001b[0m in \u001b[0;36m<module>\u001b[0;34m()\u001b[0m\n\u001b[0;32m----> 1\u001b[0;31m \u001b[0mmy_set\u001b[0m\u001b[0;34m.\u001b[0m\u001b[0mremove\u001b[0m\u001b[0;34m(\u001b[0m\u001b[0;36m9\u001b[0m\u001b[0;34m)\u001b[0m \u001b[0;31m## Gives Error##\u001b[0m\u001b[0;34m\u001b[0m\u001b[0;34m\u001b[0m\u001b[0m\n\u001b[0m\u001b[1;32m      2\u001b[0m \u001b[0mprint\u001b[0m\u001b[0;34m(\u001b[0m\u001b[0mmy_set\u001b[0m\u001b[0;34m)\u001b[0m\u001b[0;34m\u001b[0m\u001b[0;34m\u001b[0m\u001b[0m\n",
            "\u001b[0;31mKeyError\u001b[0m: 9"
          ]
        }
      ]
    },
    {
      "cell_type": "code",
      "source": [
        "a={1,2,3,4,5,6}   ##Union##\n",
        "b={7,8,9,2,5,10}\n",
        "print(a|b)\n",
        "\n"
      ],
      "metadata": {
        "colab": {
          "base_uri": "https://localhost:8080/"
        },
        "id": "bTiUJHoZJZn8",
        "outputId": "c2a9e789-4cb9-4ac2-e67e-b0352a9f1f4e"
      },
      "execution_count": null,
      "outputs": [
        {
          "output_type": "stream",
          "name": "stdout",
          "text": [
            "{1, 2, 3, 4, 5, 6, 7, 8, 9, 10}\n"
          ]
        }
      ]
    },
    {
      "cell_type": "code",
      "source": [
        "a.union(b)\n"
      ],
      "metadata": {
        "colab": {
          "base_uri": "https://localhost:8080/"
        },
        "id": "5OZtqlr2KN3A",
        "outputId": "55e9d6e8-56cb-4cc6-a9ea-df6ea59cf9e5"
      },
      "execution_count": null,
      "outputs": [
        {
          "output_type": "execute_result",
          "data": {
            "text/plain": [
              "{1, 2, 3, 4, 5, 6, 7, 8, 9, 10}"
            ]
          },
          "metadata": {},
          "execution_count": 20
        }
      ]
    },
    {
      "cell_type": "code",
      "source": [
        "print(a&b) ##Intersection##"
      ],
      "metadata": {
        "colab": {
          "base_uri": "https://localhost:8080/"
        },
        "id": "Sdv8ExlJKY_m",
        "outputId": "4dd4d130-5ada-41f3-e1b7-008e41408b42"
      },
      "execution_count": null,
      "outputs": [
        {
          "output_type": "stream",
          "name": "stdout",
          "text": [
            "{2, 5}\n"
          ]
        }
      ]
    },
    {
      "cell_type": "code",
      "source": [
        "a.intersection(b)"
      ],
      "metadata": {
        "colab": {
          "base_uri": "https://localhost:8080/"
        },
        "id": "TYeaJO8UKeNx",
        "outputId": "2502e8fc-8ffd-4e4d-c606-ee887dfd2e75"
      },
      "execution_count": null,
      "outputs": [
        {
          "output_type": "execute_result",
          "data": {
            "text/plain": [
              "{2, 5}"
            ]
          },
          "metadata": {},
          "execution_count": 22
        }
      ]
    },
    {
      "cell_type": "code",
      "source": [
        "print(a-b) ##set Difference"
      ],
      "metadata": {
        "colab": {
          "base_uri": "https://localhost:8080/"
        },
        "id": "rQH7xMEfKj8g",
        "outputId": "8cceaa93-cf18-406b-8f38-e7b2c31561da"
      },
      "execution_count": null,
      "outputs": [
        {
          "output_type": "stream",
          "name": "stdout",
          "text": [
            "{1, 3, 4, 6}\n"
          ]
        }
      ]
    },
    {
      "cell_type": "code",
      "source": [
        "a.difference(b)   ##set Difference"
      ],
      "metadata": {
        "colab": {
          "base_uri": "https://localhost:8080/"
        },
        "id": "pd4gODdjK_2k",
        "outputId": "6c175003-5faf-46f1-c70f-c4c351609096"
      },
      "execution_count": null,
      "outputs": [
        {
          "output_type": "execute_result",
          "data": {
            "text/plain": [
              "{1, 3, 4, 6}"
            ]
          },
          "metadata": {},
          "execution_count": 25
        }
      ]
    },
    {
      "cell_type": "code",
      "source": [
        ""
      ],
      "metadata": {
        "id": "_X39_zh-LSsq"
      },
      "execution_count": null,
      "outputs": []
    },
    {
      "cell_type": "markdown",
      "source": [
        "##Symetric Diff##"
      ],
      "metadata": {
        "id": "dsZnYscpLTap"
      }
    },
    {
      "cell_type": "code",
      "source": [
        "print(a^b)"
      ],
      "metadata": {
        "colab": {
          "base_uri": "https://localhost:8080/"
        },
        "id": "07a7qzh5LW3V",
        "outputId": "547f3007-a53a-4311-cf17-d037daec296b"
      },
      "execution_count": null,
      "outputs": [
        {
          "output_type": "stream",
          "name": "stdout",
          "text": [
            "{1, 3, 4, 6, 7, 8, 9, 10}\n"
          ]
        }
      ]
    },
    {
      "cell_type": "code",
      "source": [
        "a.symmetric_difference(b)"
      ],
      "metadata": {
        "colab": {
          "base_uri": "https://localhost:8080/"
        },
        "id": "8wjP5zlFLg8e",
        "outputId": "14381f73-ca8a-4306-acb4-f98cbe4dfa8c"
      },
      "execution_count": null,
      "outputs": [
        {
          "output_type": "execute_result",
          "data": {
            "text/plain": [
              "{1, 3, 4, 6, 7, 8, 9, 10}"
            ]
          },
          "metadata": {},
          "execution_count": 27
        }
      ]
    },
    {
      "cell_type": "code",
      "source": [
        "elec1={'Laptop','TWS','Gamepad','ps3'}\n",
        "elec2={'TV','Modem','Washing Machine','Gamepad','ps3'}\n",
        "print(elec1-elec2)\n",
        "print(elec1^elec2)\n",
        "print(elec1|elec2)\n"
      ],
      "metadata": {
        "colab": {
          "base_uri": "https://localhost:8080/"
        },
        "id": "NYO8Fk-qLsxF",
        "outputId": "081366a0-2003-455e-a41d-6c0aea06cd8a"
      },
      "execution_count": null,
      "outputs": [
        {
          "output_type": "stream",
          "name": "stdout",
          "text": [
            "{'Laptop', 'TWS'}\n",
            "{'TV', 'Laptop', 'TWS', 'Modem', 'Washing Machine'}\n",
            "{'TV', 'Laptop', 'Washing Machine', 'Gamepad', 'ps3', 'TWS', 'Modem'}\n"
          ]
        }
      ]
    },
    {
      "cell_type": "code",
      "source": [
        "a=set()\n",
        "for i in range(5):\n",
        "  a.add(input('Enter Value'))\n",
        "print(a)\n"
      ],
      "metadata": {
        "colab": {
          "base_uri": "https://localhost:8080/"
        },
        "id": "Cy72CZ0lNFvF",
        "outputId": "e2223313-7c6e-4bdd-a197-58871e332c65"
      },
      "execution_count": null,
      "outputs": [
        {
          "output_type": "stream",
          "name": "stdout",
          "text": [
            "Enter Valueerwe\n",
            "Enter Valuerewrewr\n",
            "Enter Valuedsfdfds\n",
            "Enter Valuesdfdf\n",
            "Enter Valuedsfdfsd\n",
            "{'sdfdf', 'dsfdfds', 'rewrewr', 'dsfdfsd', 'erwe'}\n"
          ]
        }
      ]
    },
    {
      "cell_type": "markdown",
      "source": [
        "##Inter Conversion"
      ],
      "metadata": {
        "id": "H4DOfDLHN6Yg"
      }
    },
    {
      "cell_type": "code",
      "source": [
        "x={1,2,3,4}\n",
        "x1=list(x)\n",
        "print(x,x1)"
      ],
      "metadata": {
        "colab": {
          "base_uri": "https://localhost:8080/"
        },
        "id": "tIwFlZKbN9CI",
        "outputId": "643bdcd2-f352-41b0-f665-86b229bb6040"
      },
      "execution_count": null,
      "outputs": [
        {
          "output_type": "stream",
          "name": "stdout",
          "text": [
            "{1, 2, 3, 4} [1, 2, 3, 4]\n"
          ]
        }
      ]
    },
    {
      "cell_type": "code",
      "source": [
        "xt=tuple(x)\n",
        "print(x,xt)"
      ],
      "metadata": {
        "colab": {
          "base_uri": "https://localhost:8080/"
        },
        "id": "EekhaV3OOV-y",
        "outputId": "839b19f8-d2b1-4120-b4a8-edb1a94075a2"
      },
      "execution_count": null,
      "outputs": [
        {
          "output_type": "stream",
          "name": "stdout",
          "text": [
            "{1, 2, 3, 4} (1, 2, 3, 4)\n"
          ]
        }
      ]
    },
    {
      "cell_type": "code",
      "source": [
        "dx={1,2,3,4,1,2,3,413,131,313,1}\n",
        "ds=set(dx)\n",
        "print(dx,ds)"
      ],
      "metadata": {
        "colab": {
          "base_uri": "https://localhost:8080/"
        },
        "id": "6S6NHeCkOiB4",
        "outputId": "1c742971-fad0-4eb1-b547-e53ff3304917"
      },
      "execution_count": null,
      "outputs": [
        {
          "output_type": "stream",
          "name": "stdout",
          "text": [
            "{1, 2, 3, 4, 131, 313, 413} {1, 2, 3, 4, 131, 313, 413}\n"
          ]
        }
      ]
    },
    {
      "cell_type": "markdown",
      "source": [
        "##Dictionary##"
      ],
      "metadata": {
        "id": "pofqI0k8PVaO"
      }
    },
    {
      "cell_type": "code",
      "source": [
        "info_dict={\n",
        "    'Name':'Chandra Bhashkar',\n",
        "    'age':'27',\n",
        "    'Married':'False',\n",
        "    'is_working':'False'\n",
        "}\n",
        "print(info_dict)"
      ],
      "metadata": {
        "colab": {
          "base_uri": "https://localhost:8080/"
        },
        "id": "ToXVICWOPa1Y",
        "outputId": "88c0ff14-2d7b-4bcc-9afa-d8b9625186d8"
      },
      "execution_count": null,
      "outputs": [
        {
          "output_type": "stream",
          "name": "stdout",
          "text": [
            "{'Name': 'Chandra Bhashkar', 'age': '27', 'Married': 'False', 'is_working': 'False'}\n"
          ]
        }
      ]
    },
    {
      "cell_type": "code",
      "source": [
        "print(info_dict['Name'])"
      ],
      "metadata": {
        "colab": {
          "base_uri": "https://localhost:8080/"
        },
        "id": "NaF8kZaVRrMs",
        "outputId": "416963a4-23d5-4089-e766-33490185185b"
      },
      "execution_count": null,
      "outputs": [
        {
          "output_type": "stream",
          "name": "stdout",
          "text": [
            "Chandra Bhashkar\n"
          ]
        }
      ]
    },
    {
      "cell_type": "code",
      "source": [
        "print(info_dict.get('age'))"
      ],
      "metadata": {
        "colab": {
          "base_uri": "https://localhost:8080/"
        },
        "id": "ihJrYk38SIy5",
        "outputId": "1b997a8b-2d0b-4c64-8a5f-17525762b763"
      },
      "execution_count": null,
      "outputs": [
        {
          "output_type": "stream",
          "name": "stdout",
          "text": [
            "27\n"
          ]
        }
      ]
    },
    {
      "cell_type": "code",
      "source": [
        "print(info_dict['Address'])"
      ],
      "metadata": {
        "colab": {
          "base_uri": "https://localhost:8080/",
          "height": 166
        },
        "id": "ouDyvuEZSePV",
        "outputId": "ed050cee-f288-4a67-e0e3-83e96ffb756d"
      },
      "execution_count": null,
      "outputs": [
        {
          "output_type": "error",
          "ename": "KeyError",
          "evalue": "ignored",
          "traceback": [
            "\u001b[0;31m---------------------------------------------------------------------------\u001b[0m",
            "\u001b[0;31mKeyError\u001b[0m                                  Traceback (most recent call last)",
            "\u001b[0;32m<ipython-input-46-350795a5d89d>\u001b[0m in \u001b[0;36m<module>\u001b[0;34m()\u001b[0m\n\u001b[0;32m----> 1\u001b[0;31m \u001b[0mprint\u001b[0m\u001b[0;34m(\u001b[0m\u001b[0minfo_dict\u001b[0m\u001b[0;34m[\u001b[0m\u001b[0;34m'Address'\u001b[0m\u001b[0;34m]\u001b[0m\u001b[0;34m)\u001b[0m\u001b[0;34m\u001b[0m\u001b[0;34m\u001b[0m\u001b[0m\n\u001b[0m",
            "\u001b[0;31mKeyError\u001b[0m: 'Address'"
          ]
        }
      ]
    },
    {
      "cell_type": "code",
      "source": [
        "print(info_dict.get('Address'))"
      ],
      "metadata": {
        "colab": {
          "base_uri": "https://localhost:8080/"
        },
        "id": "xui8VtGgSicK",
        "outputId": "fadbe1f1-51dc-4e76-aa23-0151704efab0"
      },
      "execution_count": null,
      "outputs": [
        {
          "output_type": "stream",
          "name": "stdout",
          "text": [
            "None\n"
          ]
        }
      ]
    },
    {
      "cell_type": "code",
      "source": [
        "info_dict['Address']='RJPM'\n",
        "print(info_dict)"
      ],
      "metadata": {
        "colab": {
          "base_uri": "https://localhost:8080/"
        },
        "id": "d9p3kTnbSWqS",
        "outputId": "a973ba48-a0fb-48c1-c8e8-e6d3172306cf"
      },
      "execution_count": null,
      "outputs": [
        {
          "output_type": "stream",
          "name": "stdout",
          "text": [
            "{'Name': 'Chandra Bhashkar', 'age': '27', 'Married': 'False', 'is_working': 'False', 'Address': 'RJPM'}\n"
          ]
        }
      ]
    },
    {
      "cell_type": "code",
      "source": [
        "info_dict['age']='99'\n",
        "print(info_dict)"
      ],
      "metadata": {
        "colab": {
          "base_uri": "https://localhost:8080/"
        },
        "id": "cwHql7QITZzC",
        "outputId": "c50f67c2-788d-431a-8141-028550e71faf"
      },
      "execution_count": null,
      "outputs": [
        {
          "output_type": "stream",
          "name": "stdout",
          "text": [
            "{'Name': 'Chandra Bhashkar', 'age': '99', 'Married': 'False', 'is_working': 'False', 'Address': 'RJPM'}\n"
          ]
        }
      ]
    },
    {
      "cell_type": "code",
      "source": [
        "square={1:1,2:4,3:9,4:16,5:25}\n",
        "print(square.pop(4))"
      ],
      "metadata": {
        "colab": {
          "base_uri": "https://localhost:8080/"
        },
        "id": "AeTWXs2tToyD",
        "outputId": "eccd6f52-3d53-43ac-f786-5a6e177c7234"
      },
      "execution_count": null,
      "outputs": [
        {
          "output_type": "stream",
          "name": "stdout",
          "text": [
            "16\n"
          ]
        }
      ]
    },
    {
      "cell_type": "code",
      "source": [
        "square"
      ],
      "metadata": {
        "colab": {
          "base_uri": "https://localhost:8080/"
        },
        "id": "lqCSxxZJUgsk",
        "outputId": "2f12f216-0609-4bd0-ab05-5005642f0bbf"
      },
      "execution_count": null,
      "outputs": [
        {
          "output_type": "execute_result",
          "data": {
            "text/plain": [
              "{1: 1, 2: 4, 3: 9, 5: 25}"
            ]
          },
          "metadata": {},
          "execution_count": 53
        }
      ]
    },
    {
      "cell_type": "code",
      "source": [
        ""
      ],
      "metadata": {
        "id": "_2R489hjUjF1"
      },
      "execution_count": null,
      "outputs": []
    }
  ]
}