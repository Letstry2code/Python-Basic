{
  "nbformat": 4,
  "nbformat_minor": 0,
  "metadata": {
    "colab": {
      "name": "intro.ipynb",
      "provenance": [],
      "collapsed_sections": [
        "2eDgOG8hNR1K",
        "fGg0OdoINWOQ",
        "QPtwLdxUOmBj",
        "hhQ-bmcSXZpr",
        "uf6TpEIXaSY3",
        "oxBHs1-McwvJ",
        "rSeIT8KOesdC"
      ],
      "authorship_tag": "ABX9TyMoSmXXs/pAeR2WHn4r/Mmu",
      "include_colab_link": true
    },
    "kernelspec": {
      "name": "python3",
      "display_name": "Python 3"
    },
    "language_info": {
      "name": "python"
    }
  },
  "cells": [
    {
      "cell_type": "markdown",
      "metadata": {
        "id": "view-in-github",
        "colab_type": "text"
      },
      "source": [
        "<a href=\"https://colab.research.google.com/github/Letstry2code/Python-Basic/blob/main/intro.ipynb\" target=\"_parent\"><img src=\"https://colab.research.google.com/assets/colab-badge.svg\" alt=\"Open In Colab\"/></a>"
      ]
    },
    {
      "cell_type": "code",
      "execution_count": null,
      "metadata": {
        "id": "cz6DF3ibK49E"
      },
      "outputs": [],
      "source": [
        "Str='Hello, How are you?'"
      ]
    },
    {
      "cell_type": "markdown",
      "source": [
        "##**1**"
      ],
      "metadata": {
        "id": "2eDgOG8hNR1K"
      }
    },
    {
      "cell_type": "code",
      "source": [
        "def String():\n",
        "  Str='Hello, How are you?'\n",
        "  print(Str)\n",
        "String()"
      ],
      "metadata": {
        "colab": {
          "base_uri": "https://localhost:8080/"
        },
        "id": "DLkTs-uGL8me",
        "outputId": "0ac77ab8-ddf4-48b9-c2e9-0e2e10661c38"
      },
      "execution_count": 4,
      "outputs": [
        {
          "output_type": "stream",
          "name": "stdout",
          "text": [
            "Hello, How are you?\n"
          ]
        }
      ]
    },
    {
      "cell_type": "markdown",
      "source": [
        "##**2**"
      ],
      "metadata": {
        "id": "fGg0OdoINWOQ"
      }
    },
    {
      "cell_type": "code",
      "source": [
        "Strings=('Enter a String')\n",
        "b=len(Strings)\n",
        "print(b)"
      ],
      "metadata": {
        "colab": {
          "base_uri": "https://localhost:8080/"
        },
        "id": "F22BKtmgNJtO",
        "outputId": "d3916214-89c9-4080-f3fc-39d25f4ec313"
      },
      "execution_count": 8,
      "outputs": [
        {
          "output_type": "stream",
          "name": "stdout",
          "text": [
            "14\n"
          ]
        }
      ]
    },
    {
      "cell_type": "markdown",
      "source": [
        "##3"
      ],
      "metadata": {
        "id": "QPtwLdxUOmBj"
      }
    },
    {
      "cell_type": "code",
      "source": [
        "my_str='Python is great'\n",
        "b=len(my_str)\n",
        "slice1=my_str[10:b]\n",
        "print(slice1)"
      ],
      "metadata": {
        "colab": {
          "base_uri": "https://localhost:8080/"
        },
        "id": "J6OtAkd4QKfP",
        "outputId": "09f4f943-0592-4166-ea6d-1bd2811ec33f"
      },
      "execution_count": 42,
      "outputs": [
        {
          "output_type": "stream",
          "name": "stdout",
          "text": [
            "great\n"
          ]
        }
      ]
    },
    {
      "cell_type": "markdown",
      "source": [
        "##**4**"
      ],
      "metadata": {
        "id": "hhQ-bmcSXZpr"
      }
    },
    {
      "cell_type": "code",
      "source": [
        "i=0\n",
        "q4='Python is everywhere'\n",
        "new=''\n",
        "new=q4.split()\n",
        "print(new)\n",
        "for d in range(3):\n",
        " Str=new[i]+'''\n",
        " '''\n",
        " i=i+1\n",
        " print(Str)"
      ],
      "metadata": {
        "colab": {
          "base_uri": "https://localhost:8080/"
        },
        "id": "f3oQRpFtXcdM",
        "outputId": "d7be640e-f8de-45f7-8b5e-4d4e5851f966"
      },
      "execution_count": 59,
      "outputs": [
        {
          "output_type": "stream",
          "name": "stdout",
          "text": [
            "['Python', 'is', 'everywhere']\n",
            "Python\n",
            " \n",
            "is\n",
            " \n",
            "everywhere\n",
            " \n"
          ]
        }
      ]
    },
    {
      "cell_type": "markdown",
      "source": [
        "##**5**"
      ],
      "metadata": {
        "id": "uf6TpEIXaSY3"
      }
    },
    {
      "cell_type": "code",
      "source": [
        "d=''\n",
        "stri='Hello World!'\n",
        "d=stri[::-1]\n",
        "print(d)\n"
      ],
      "metadata": {
        "colab": {
          "base_uri": "https://localhost:8080/"
        },
        "id": "-YMj4OUZaWNz",
        "outputId": "1cfc6707-2926-47eb-b5f4-27ab5163fcc1"
      },
      "execution_count": 68,
      "outputs": [
        {
          "output_type": "stream",
          "name": "stdout",
          "text": [
            "!dlroW olleH\n"
          ]
        }
      ]
    },
    {
      "cell_type": "markdown",
      "source": [
        "##**6**"
      ],
      "metadata": {
        "id": "oxBHs1-McwvJ"
      }
    },
    {
      "cell_type": "code",
      "source": [
        "up='how are you?'\n",
        "d=up.upper()\n",
        "print(d)\n"
      ],
      "metadata": {
        "colab": {
          "base_uri": "https://localhost:8080/"
        },
        "id": "AcJAsiiGcx_F",
        "outputId": "f05f3d91-b8ad-4dbf-9f0a-7068779a7b3d"
      },
      "execution_count": 76,
      "outputs": [
        {
          "output_type": "stream",
          "name": "stdout",
          "text": [
            "HOW ARE YOU?\n"
          ]
        }
      ]
    },
    {
      "cell_type": "markdown",
      "source": [
        "##**7**"
      ],
      "metadata": {
        "id": "rSeIT8KOesdC"
      }
    },
    {
      "cell_type": "code",
      "source": [
        "up='How Are YOU?'\n",
        "d=up.lower()\n",
        "print(d)"
      ],
      "metadata": {
        "colab": {
          "base_uri": "https://localhost:8080/"
        },
        "id": "id8HrmLgeudK",
        "outputId": "417e78ec-8cac-42b8-ea14-934660987459"
      },
      "execution_count": 78,
      "outputs": [
        {
          "output_type": "stream",
          "name": "stdout",
          "text": [
            "how are you?\n"
          ]
        }
      ]
    },
    {
      "cell_type": "markdown",
      "source": [
        "##**8**"
      ],
      "metadata": {
        "id": "hxrEx2MEe9pp"
      }
    },
    {
      "cell_type": "code",
      "source": [
        "updated=''\n",
        "words = ['Python', 'is', 'easy', 'to', 'learn']\n",
        "updated=' '.join(words)\n",
        "print(updated)"
      ],
      "metadata": {
        "colab": {
          "base_uri": "https://localhost:8080/"
        },
        "id": "q0QTW5xnfArB",
        "outputId": "2564592d-93fc-4600-fe7b-3e793e37bf54"
      },
      "execution_count": 82,
      "outputs": [
        {
          "output_type": "stream",
          "name": "stdout",
          "text": [
            "Python is easy to learn\n"
          ]
        }
      ]
    },
    {
      "cell_type": "markdown",
      "source": [
        "##**9**"
      ],
      "metadata": {
        "id": "HK3UgBwhgMpN"
      }
    },
    {
      "cell_type": "code",
      "source": [
        "print('''HI\n",
        "hiw\n",
        "fgdfsdf''')"
      ],
      "metadata": {
        "colab": {
          "base_uri": "https://localhost:8080/"
        },
        "id": "RWvkaYF3gPXA",
        "outputId": "668f7357-4188-479a-d76a-558b88e8ceed"
      },
      "execution_count": 83,
      "outputs": [
        {
          "output_type": "stream",
          "name": "stdout",
          "text": [
            "HI\n",
            "hiw\n",
            "fgdfsdf\n"
          ]
        }
      ]
    },
    {
      "cell_type": "markdown",
      "source": [
        "##**10**"
      ],
      "metadata": {
        "id": "iNfijv9bgt6w"
      }
    },
    {
      "cell_type": "code",
      "source": [
        "print_exact=\"to move to newline {'}{\\}{n}{'} is used.\"\n",
        "print(print_exact)"
      ],
      "metadata": {
        "colab": {
          "base_uri": "https://localhost:8080/"
        },
        "id": "rIt-TjLwgwof",
        "outputId": "2a81188d-cfe0-4e14-d8dd-73387a5e390c"
      },
      "execution_count": 95,
      "outputs": [
        {
          "output_type": "stream",
          "name": "stdout",
          "text": [
            "to move to newline {'}{\\}{n}{'} is used.\n"
          ]
        }
      ]
    }
  ]
}