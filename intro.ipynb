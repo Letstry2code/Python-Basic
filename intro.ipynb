{
  "nbformat": 4,
  "nbformat_minor": 0,
  "metadata": {
    "colab": {
      "name": "intro.ipynb",
      "provenance": [],
      "collapsed_sections": [
        "2eDgOG8hNR1K",
        "fGg0OdoINWOQ",
        "QPtwLdxUOmBj",
        "hhQ-bmcSXZpr",
        "uf6TpEIXaSY3",
        "oxBHs1-McwvJ",
        "rSeIT8KOesdC"
      ],
      "authorship_tag": "ABX9TyNM5FZcTiw2+NfGDy3CwjI9",
      "include_colab_link": true
    },
    "kernelspec": {
      "name": "python3",
      "display_name": "Python 3"
    },
    "language_info": {
      "name": "python"
    }
  },
  "cells": [
    {
      "cell_type": "markdown",
      "metadata": {
        "id": "view-in-github",
        "colab_type": "text"
      },
      "source": [
        "<a href=\"https://colab.research.google.com/github/Letstry2code/Python-Basic/blob/main/intro.ipynb\" target=\"_parent\"><img src=\"https://colab.research.google.com/assets/colab-badge.svg\" alt=\"Open In Colab\"/></a>"
      ]
    },
    {
      "cell_type": "code",
      "execution_count": null,
      "metadata": {
        "id": "cz6DF3ibK49E"
      },
      "outputs": [],
      "source": [
        "Str='Hello, How are you?'"
      ]
    },
    {
      "cell_type": "markdown",
      "source": [
        "##**1**"
      ],
      "metadata": {
        "id": "2eDgOG8hNR1K"
      }
    },
    {
      "cell_type": "code",
      "source": [
        "def String():\n",
        "  Str='Hello, How are you?'\n",
        "  print(Str)\n",
        "String()"
      ],
      "metadata": {
        "colab": {
          "base_uri": "https://localhost:8080/"
        },
        "id": "DLkTs-uGL8me",
        "outputId": "0ac77ab8-ddf4-48b9-c2e9-0e2e10661c38"
      },
      "execution_count": null,
      "outputs": [
        {
          "output_type": "stream",
          "name": "stdout",
          "text": [
            "Hello, How are you?\n"
          ]
        }
      ]
    },
    {
      "cell_type": "markdown",
      "source": [
        "##**2**"
      ],
      "metadata": {
        "id": "fGg0OdoINWOQ"
      }
    },
    {
      "cell_type": "code",
      "source": [
        "Strings=('Enter a String')\n",
        "b=len(Strings)\n",
        "print(b)"
      ],
      "metadata": {
        "colab": {
          "base_uri": "https://localhost:8080/"
        },
        "id": "F22BKtmgNJtO",
        "outputId": "d3916214-89c9-4080-f3fc-39d25f4ec313"
      },
      "execution_count": null,
      "outputs": [
        {
          "output_type": "stream",
          "name": "stdout",
          "text": [
            "14\n"
          ]
        }
      ]
    },
    {
      "cell_type": "markdown",
      "source": [
        "##3"
      ],
      "metadata": {
        "id": "QPtwLdxUOmBj"
      }
    },
    {
      "cell_type": "code",
      "source": [
        "my_str='Python is great'\n",
        "b=len(my_str)\n",
        "slice1=my_str[10:b]\n",
        "print(slice1)"
      ],
      "metadata": {
        "colab": {
          "base_uri": "https://localhost:8080/"
        },
        "id": "J6OtAkd4QKfP",
        "outputId": "09f4f943-0592-4166-ea6d-1bd2811ec33f"
      },
      "execution_count": null,
      "outputs": [
        {
          "output_type": "stream",
          "name": "stdout",
          "text": [
            "great\n"
          ]
        }
      ]
    },
    {
      "cell_type": "markdown",
      "source": [
        "##**4**"
      ],
      "metadata": {
        "id": "hhQ-bmcSXZpr"
      }
    },
    {
      "cell_type": "code",
      "source": [
        "i=0\n",
        "q4='Python is everywhere'\n",
        "new=''\n",
        "new=q4.split()\n",
        "print(new)\n",
        "for d in range(3):\n",
        " Str=new[i]+'''\n",
        " '''\n",
        " i=i+1\n",
        " print(Str)"
      ],
      "metadata": {
        "colab": {
          "base_uri": "https://localhost:8080/"
        },
        "id": "f3oQRpFtXcdM",
        "outputId": "d7be640e-f8de-45f7-8b5e-4d4e5851f966"
      },
      "execution_count": null,
      "outputs": [
        {
          "output_type": "stream",
          "name": "stdout",
          "text": [
            "['Python', 'is', 'everywhere']\n",
            "Python\n",
            " \n",
            "is\n",
            " \n",
            "everywhere\n",
            " \n"
          ]
        }
      ]
    },
    {
      "cell_type": "markdown",
      "source": [
        "##**5**"
      ],
      "metadata": {
        "id": "uf6TpEIXaSY3"
      }
    },
    {
      "cell_type": "code",
      "source": [
        "d=''\n",
        "stri='Hello World!'\n",
        "d=stri[::-1]\n",
        "print(d)\n"
      ],
      "metadata": {
        "colab": {
          "base_uri": "https://localhost:8080/"
        },
        "id": "-YMj4OUZaWNz",
        "outputId": "1cfc6707-2926-47eb-b5f4-27ab5163fcc1"
      },
      "execution_count": null,
      "outputs": [
        {
          "output_type": "stream",
          "name": "stdout",
          "text": [
            "!dlroW olleH\n"
          ]
        }
      ]
    },
    {
      "cell_type": "markdown",
      "source": [
        "##**6**"
      ],
      "metadata": {
        "id": "oxBHs1-McwvJ"
      }
    },
    {
      "cell_type": "code",
      "source": [
        "up='how are you?'\n",
        "d=up.upper()\n",
        "print(d)\n"
      ],
      "metadata": {
        "colab": {
          "base_uri": "https://localhost:8080/"
        },
        "id": "AcJAsiiGcx_F",
        "outputId": "f05f3d91-b8ad-4dbf-9f0a-7068779a7b3d"
      },
      "execution_count": null,
      "outputs": [
        {
          "output_type": "stream",
          "name": "stdout",
          "text": [
            "HOW ARE YOU?\n"
          ]
        }
      ]
    },
    {
      "cell_type": "markdown",
      "source": [
        "##**7**"
      ],
      "metadata": {
        "id": "rSeIT8KOesdC"
      }
    },
    {
      "cell_type": "code",
      "source": [
        "up='How Are YOU?'\n",
        "d=up.lower()\n",
        "print(d)"
      ],
      "metadata": {
        "colab": {
          "base_uri": "https://localhost:8080/"
        },
        "id": "id8HrmLgeudK",
        "outputId": "417e78ec-8cac-42b8-ea14-934660987459"
      },
      "execution_count": null,
      "outputs": [
        {
          "output_type": "stream",
          "name": "stdout",
          "text": [
            "how are you?\n"
          ]
        }
      ]
    },
    {
      "cell_type": "markdown",
      "source": [
        "##**8**"
      ],
      "metadata": {
        "id": "hxrEx2MEe9pp"
      }
    },
    {
      "cell_type": "code",
      "source": [
        "updated=''\n",
        "words = ['Python', 'is', 'easy', 'to', 'learn']\n",
        "updated=' '.join(words)\n",
        "print(updated)"
      ],
      "metadata": {
        "colab": {
          "base_uri": "https://localhost:8080/"
        },
        "id": "q0QTW5xnfArB",
        "outputId": "2564592d-93fc-4600-fe7b-3e793e37bf54"
      },
      "execution_count": null,
      "outputs": [
        {
          "output_type": "stream",
          "name": "stdout",
          "text": [
            "Python is easy to learn\n"
          ]
        }
      ]
    },
    {
      "cell_type": "markdown",
      "source": [
        "##**9**"
      ],
      "metadata": {
        "id": "HK3UgBwhgMpN"
      }
    },
    {
      "cell_type": "code",
      "source": [
        "print('''HI\n",
        "hiw\n",
        "fgdfsdf''')"
      ],
      "metadata": {
        "colab": {
          "base_uri": "https://localhost:8080/"
        },
        "id": "RWvkaYF3gPXA",
        "outputId": "668f7357-4188-479a-d76a-558b88e8ceed"
      },
      "execution_count": null,
      "outputs": [
        {
          "output_type": "stream",
          "name": "stdout",
          "text": [
            "HI\n",
            "hiw\n",
            "fgdfsdf\n"
          ]
        }
      ]
    },
    {
      "cell_type": "markdown",
      "source": [
        "##**10**"
      ],
      "metadata": {
        "id": "iNfijv9bgt6w"
      }
    },
    {
      "cell_type": "code",
      "source": [
        "print_exact=\"to move to newline /n is used.\"\n",
        "print(print_exact)"
      ],
      "metadata": {
        "colab": {
          "base_uri": "https://localhost:8080/"
        },
        "id": "rIt-TjLwgwof",
        "outputId": "0485ff90-30d8-4bc2-d0c1-707310a7c53d"
      },
      "execution_count": 1,
      "outputs": [
        {
          "output_type": "stream",
          "name": "stdout",
          "text": [
            "to move to newline /n is used.\n"
          ]
        }
      ]
    },
    {
      "cell_type": "markdown",
      "source": [
        "##**11**"
      ],
      "metadata": {
        "id": "RbWlx2Jo67jG"
      }
    },
    {
      "cell_type": "code",
      "source": [
        "test='The Variable is '\n",
        "d=15\n",
        "print(test,d)"
      ],
      "metadata": {
        "colab": {
          "base_uri": "https://localhost:8080/"
        },
        "id": "D9LWje7o6-hB",
        "outputId": "a1efaef1-fc40-456d-868f-cf97099a3325"
      },
      "execution_count": 2,
      "outputs": [
        {
          "output_type": "stream",
          "name": "stdout",
          "text": [
            "The Variable is  15\n"
          ]
        }
      ]
    },
    {
      "cell_type": "markdown",
      "source": [
        "##**12**"
      ],
      "metadata": {
        "id": "dXcRw-NK7RRM"
      }
    },
    {
      "cell_type": "code",
      "source": [
        "s1='python'\n",
        "s2='is'\n",
        "s3='great'\n",
        "s4=s1+' '+s2+' '+s3\n",
        "print(s4)"
      ],
      "metadata": {
        "colab": {
          "base_uri": "https://localhost:8080/"
        },
        "id": "oH7QwsuK7VqR",
        "outputId": "53485d73-a2cd-4d05-d0b5-eb1f7a742849"
      },
      "execution_count": 5,
      "outputs": [
        {
          "output_type": "stream",
          "name": "stdout",
          "text": [
            "python is great\n"
          ]
        }
      ]
    },
    {
      "cell_type": "markdown",
      "source": [
        "##**13**"
      ],
      "metadata": {
        "id": "Q5R1ti1D8UWT"
      }
    },
    {
      "cell_type": "code",
      "source": [
        "cha='#'\n",
        "print(cha*20)\n"
      ],
      "metadata": {
        "colab": {
          "base_uri": "https://localhost:8080/"
        },
        "id": "Rmq_VJU28V5z",
        "outputId": "892236f6-158d-4978-ed06-bbdf840af11b"
      },
      "execution_count": 6,
      "outputs": [
        {
          "output_type": "stream",
          "name": "stdout",
          "text": [
            "####################\n"
          ]
        }
      ]
    },
    {
      "cell_type": "markdown",
      "source": [
        "##**14**"
      ],
      "metadata": {
        "id": "uwi5OnDY8kar"
      }
    },
    {
      "cell_type": "code",
      "source": [
        "i=1\n",
        "for j in range(9):\n",
        "  print(i,'.')\n",
        "  i+=1\n"
      ],
      "metadata": {
        "colab": {
          "base_uri": "https://localhost:8080/"
        },
        "id": "dN156w2D8mbS",
        "outputId": "75760e7b-cd3e-4e91-b747-d282c8118073"
      },
      "execution_count": 9,
      "outputs": [
        {
          "output_type": "stream",
          "name": "stdout",
          "text": [
            "1 .\n",
            "2 .\n",
            "3 .\n",
            "4 .\n",
            "5 .\n",
            "6 .\n",
            "7 .\n",
            "8 .\n",
            "9 .\n"
          ]
        }
      ]
    },
    {
      "cell_type": "markdown",
      "source": [
        "##**15**"
      ],
      "metadata": {
        "id": "GKdt1h5w9JPv"
      }
    },
    {
      "cell_type": "code",
      "source": [
        "story =input('''Enter a story : ''')\n",
        "len(story)\n",
        "story.split()\n",
        "print(story)\n"
      ],
      "metadata": {
        "colab": {
          "base_uri": "https://localhost:8080/"
        },
        "id": "0HyVW0vR91vM",
        "outputId": "4e8c1b9f-4b2f-4212-e944-a8a277799874"
      },
      "execution_count": 21,
      "outputs": [
        {
          "output_type": "stream",
          "name": "stdout",
          "text": [
            "Enter a story My Name is Chandra\n",
            "My Name is Chandra\n"
          ]
        }
      ]
    },
    {
      "cell_type": "markdown",
      "source": [
        "##**16**"
      ],
      "metadata": {
        "id": "egoie3UOAZCv"
      }
    },
    {
      "cell_type": "code",
      "source": [
        "Enter=input('Enter a String : ')\n",
        "d=len(Enter)\n",
        "d=d-1\n",
        "if Enter[d]=='?':\n",
        "  print('Indeed it has :)')\n",
        "else:\n",
        "    print('Noooooo')\n"
      ],
      "metadata": {
        "colab": {
          "base_uri": "https://localhost:8080/"
        },
        "id": "7Sy_olEiAdho",
        "outputId": "3e8582cd-2f08-46a9-b7ce-446e7a09b29a"
      },
      "execution_count": 26,
      "outputs": [
        {
          "output_type": "stream",
          "name": "stdout",
          "text": [
            "Enter a String : ksgdjgas skdgasj kjasgdk s?\n",
            "Indeed ut has :)\n"
          ]
        }
      ]
    },
    {
      "cell_type": "markdown",
      "source": [
        "##**17**"
      ],
      "metadata": {
        "id": "iX-Ckak3BfgE"
      }
    },
    {
      "cell_type": "code",
      "source": [
        "vowels = 'e'\n",
        "message = input('Enter a String :')\n",
        "for vowel in vowels:\n",
        "    print(message.count(vowel),vowel)"
      ],
      "metadata": {
        "colab": {
          "base_uri": "https://localhost:8080/"
        },
        "id": "68SvU5QADF32",
        "outputId": "f3dfcca7-b804-41b4-c5ff-473ab56e41a8"
      },
      "execution_count": 33,
      "outputs": [
        {
          "output_type": "stream",
          "name": "stdout",
          "text": [
            "Enter a String :Enter a STring\n",
            "1 e\n"
          ]
        }
      ]
    },
    {
      "cell_type": "markdown",
      "source": [
        "##**18**"
      ],
      "metadata": {
        "id": "yf5HdwVrDaOw"
      }
    },
    {
      "cell_type": "code",
      "source": [
        "char=input('Input a Character')\n",
        "if char.isnumeric():\n",
        "  print('it is a numeric')\n",
        "else:\n",
        "  print('No')"
      ],
      "metadata": {
        "colab": {
          "base_uri": "https://localhost:8080/"
        },
        "id": "ERVzZR_hDcqY",
        "outputId": "7d7efbeb-0703-487b-bbdc-923cde573967"
      },
      "execution_count": 35,
      "outputs": [
        {
          "output_type": "stream",
          "name": "stdout",
          "text": [
            "Input a Characterd\n",
            "No\n"
          ]
        }
      ]
    },
    {
      "cell_type": "markdown",
      "source": [
        "##**19**"
      ],
      "metadata": {
        "id": "zXxEvUYtD4DM"
      }
    },
    {
      "cell_type": "code",
      "source": [
        "text = '   this is not a good string           '\n",
        "text.strip()\n"
      ],
      "metadata": {
        "colab": {
          "base_uri": "https://localhost:8080/",
          "height": 35
        },
        "id": "mZcXONXhD5oz",
        "outputId": "b7ca2f70-b551-4a94-aa99-7a69d520d81a"
      },
      "execution_count": 38,
      "outputs": [
        {
          "output_type": "execute_result",
          "data": {
            "text/plain": [
              "'this is not a good string'"
            ],
            "application/vnd.google.colaboratory.intrinsic+json": {
              "type": "string"
            }
          },
          "metadata": {},
          "execution_count": 38
        }
      ]
    },
    {
      "cell_type": "markdown",
      "source": [
        "##**20**"
      ],
      "metadata": {
        "id": "ubA8BlnsEUXi"
      }
    },
    {
      "cell_type": "code",
      "source": [
        "vowels = 'ABCDEFGHIJKLMNOPQRSTUVWXYZ'\n",
        "message = input('Enter a String :')\n",
        "d=0\n",
        "for vowel in vowels:\n",
        "    print(message.count(vowel),vowel)\n",
        "    d+=1\n",
        "if d>0:\n",
        "  print('found')\n",
        "else:\n",
        "  print('Not Found')"
      ],
      "metadata": {
        "colab": {
          "base_uri": "https://localhost:8080/"
        },
        "id": "XAE_BpToHmY8",
        "outputId": "4cf882a4-6774-4b13-abdf-2e0bf23ad26a"
      },
      "execution_count": 54,
      "outputs": [
        {
          "output_type": "stream",
          "name": "stdout",
          "text": [
            "Enter a String :My name is Chandra\n",
            "0 A\n",
            "0 B\n",
            "1 C\n",
            "0 D\n",
            "0 E\n",
            "0 F\n",
            "0 G\n",
            "0 H\n",
            "0 I\n",
            "0 J\n",
            "0 K\n",
            "0 L\n",
            "1 M\n",
            "0 N\n",
            "0 O\n",
            "0 P\n",
            "0 Q\n",
            "0 R\n",
            "0 S\n",
            "0 T\n",
            "0 U\n",
            "0 V\n",
            "0 W\n",
            "0 X\n",
            "0 Y\n",
            "0 Z\n",
            "found\n"
          ]
        }
      ]
    },
    {
      "cell_type": "markdown",
      "source": [
        "##**21**"
      ],
      "metadata": {
        "id": "nUa7nzihJs08"
      }
    },
    {
      "cell_type": "code",
      "source": [
        "names = 'Joe, David, Mark, Tom, Chris, Robert'\n",
        "m=[]\n",
        "d=len(names)\n",
        "for i in range(d):\n",
        "  m.append(names[i])\n",
        "  print(m)\n"
      ],
      "metadata": {
        "colab": {
          "base_uri": "https://localhost:8080/"
        },
        "id": "cEI34GFxJuIg",
        "outputId": "878ea51d-9f3e-4ea2-d6b4-b13652141753"
      },
      "execution_count": 59,
      "outputs": [
        {
          "output_type": "stream",
          "name": "stdout",
          "text": [
            "['J']\n",
            "['J', 'o']\n",
            "['J', 'o', 'e']\n",
            "['J', 'o', 'e', ',']\n",
            "['J', 'o', 'e', ',', ' ']\n",
            "['J', 'o', 'e', ',', ' ', 'D']\n",
            "['J', 'o', 'e', ',', ' ', 'D', 'a']\n",
            "['J', 'o', 'e', ',', ' ', 'D', 'a', 'v']\n",
            "['J', 'o', 'e', ',', ' ', 'D', 'a', 'v', 'i']\n",
            "['J', 'o', 'e', ',', ' ', 'D', 'a', 'v', 'i', 'd']\n",
            "['J', 'o', 'e', ',', ' ', 'D', 'a', 'v', 'i', 'd', ',']\n",
            "['J', 'o', 'e', ',', ' ', 'D', 'a', 'v', 'i', 'd', ',', ' ']\n",
            "['J', 'o', 'e', ',', ' ', 'D', 'a', 'v', 'i', 'd', ',', ' ', 'M']\n",
            "['J', 'o', 'e', ',', ' ', 'D', 'a', 'v', 'i', 'd', ',', ' ', 'M', 'a']\n",
            "['J', 'o', 'e', ',', ' ', 'D', 'a', 'v', 'i', 'd', ',', ' ', 'M', 'a', 'r']\n",
            "['J', 'o', 'e', ',', ' ', 'D', 'a', 'v', 'i', 'd', ',', ' ', 'M', 'a', 'r', 'k']\n",
            "['J', 'o', 'e', ',', ' ', 'D', 'a', 'v', 'i', 'd', ',', ' ', 'M', 'a', 'r', 'k', ',']\n",
            "['J', 'o', 'e', ',', ' ', 'D', 'a', 'v', 'i', 'd', ',', ' ', 'M', 'a', 'r', 'k', ',', ' ']\n",
            "['J', 'o', 'e', ',', ' ', 'D', 'a', 'v', 'i', 'd', ',', ' ', 'M', 'a', 'r', 'k', ',', ' ', 'T']\n",
            "['J', 'o', 'e', ',', ' ', 'D', 'a', 'v', 'i', 'd', ',', ' ', 'M', 'a', 'r', 'k', ',', ' ', 'T', 'o']\n",
            "['J', 'o', 'e', ',', ' ', 'D', 'a', 'v', 'i', 'd', ',', ' ', 'M', 'a', 'r', 'k', ',', ' ', 'T', 'o', 'm']\n",
            "['J', 'o', 'e', ',', ' ', 'D', 'a', 'v', 'i', 'd', ',', ' ', 'M', 'a', 'r', 'k', ',', ' ', 'T', 'o', 'm', ',']\n",
            "['J', 'o', 'e', ',', ' ', 'D', 'a', 'v', 'i', 'd', ',', ' ', 'M', 'a', 'r', 'k', ',', ' ', 'T', 'o', 'm', ',', ' ']\n",
            "['J', 'o', 'e', ',', ' ', 'D', 'a', 'v', 'i', 'd', ',', ' ', 'M', 'a', 'r', 'k', ',', ' ', 'T', 'o', 'm', ',', ' ', 'C']\n",
            "['J', 'o', 'e', ',', ' ', 'D', 'a', 'v', 'i', 'd', ',', ' ', 'M', 'a', 'r', 'k', ',', ' ', 'T', 'o', 'm', ',', ' ', 'C', 'h']\n",
            "['J', 'o', 'e', ',', ' ', 'D', 'a', 'v', 'i', 'd', ',', ' ', 'M', 'a', 'r', 'k', ',', ' ', 'T', 'o', 'm', ',', ' ', 'C', 'h', 'r']\n",
            "['J', 'o', 'e', ',', ' ', 'D', 'a', 'v', 'i', 'd', ',', ' ', 'M', 'a', 'r', 'k', ',', ' ', 'T', 'o', 'm', ',', ' ', 'C', 'h', 'r', 'i']\n",
            "['J', 'o', 'e', ',', ' ', 'D', 'a', 'v', 'i', 'd', ',', ' ', 'M', 'a', 'r', 'k', ',', ' ', 'T', 'o', 'm', ',', ' ', 'C', 'h', 'r', 'i', 's']\n",
            "['J', 'o', 'e', ',', ' ', 'D', 'a', 'v', 'i', 'd', ',', ' ', 'M', 'a', 'r', 'k', ',', ' ', 'T', 'o', 'm', ',', ' ', 'C', 'h', 'r', 'i', 's', ',']\n",
            "['J', 'o', 'e', ',', ' ', 'D', 'a', 'v', 'i', 'd', ',', ' ', 'M', 'a', 'r', 'k', ',', ' ', 'T', 'o', 'm', ',', ' ', 'C', 'h', 'r', 'i', 's', ',', ' ']\n",
            "['J', 'o', 'e', ',', ' ', 'D', 'a', 'v', 'i', 'd', ',', ' ', 'M', 'a', 'r', 'k', ',', ' ', 'T', 'o', 'm', ',', ' ', 'C', 'h', 'r', 'i', 's', ',', ' ', 'R']\n",
            "['J', 'o', 'e', ',', ' ', 'D', 'a', 'v', 'i', 'd', ',', ' ', 'M', 'a', 'r', 'k', ',', ' ', 'T', 'o', 'm', ',', ' ', 'C', 'h', 'r', 'i', 's', ',', ' ', 'R', 'o']\n",
            "['J', 'o', 'e', ',', ' ', 'D', 'a', 'v', 'i', 'd', ',', ' ', 'M', 'a', 'r', 'k', ',', ' ', 'T', 'o', 'm', ',', ' ', 'C', 'h', 'r', 'i', 's', ',', ' ', 'R', 'o', 'b']\n",
            "['J', 'o', 'e', ',', ' ', 'D', 'a', 'v', 'i', 'd', ',', ' ', 'M', 'a', 'r', 'k', ',', ' ', 'T', 'o', 'm', ',', ' ', 'C', 'h', 'r', 'i', 's', ',', ' ', 'R', 'o', 'b', 'e']\n",
            "['J', 'o', 'e', ',', ' ', 'D', 'a', 'v', 'i', 'd', ',', ' ', 'M', 'a', 'r', 'k', ',', ' ', 'T', 'o', 'm', ',', ' ', 'C', 'h', 'r', 'i', 's', ',', ' ', 'R', 'o', 'b', 'e', 'r']\n",
            "['J', 'o', 'e', ',', ' ', 'D', 'a', 'v', 'i', 'd', ',', ' ', 'M', 'a', 'r', 'k', ',', ' ', 'T', 'o', 'm', ',', ' ', 'C', 'h', 'r', 'i', 's', ',', ' ', 'R', 'o', 'b', 'e', 'r', 't']\n"
          ]
        }
      ]
    }
  ]
}