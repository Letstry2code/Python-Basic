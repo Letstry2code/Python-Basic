{
  "cells": [
    {
      "cell_type": "markdown",
      "metadata": {
        "colab_type": "text",
        "id": "view-in-github"
      },
      "source": [
        "<a href=\"https://colab.research.google.com/github/Letstry2code/Python-Basic/blob/main/intro.ipynb\" target=\"_parent\"><img src=\"https://colab.research.google.com/assets/colab-badge.svg\" alt=\"Open In Colab\"/></a>"
      ]
    },
    {
      "cell_type": "code",
      "execution_count": 1,
      "metadata": {
        "id": "cz6DF3ibK49E"
      },
      "outputs": [],
      "source": [
        "Str='Hello, How are you?'"
      ]
    },
    {
      "cell_type": "markdown",
      "metadata": {
        "id": "2eDgOG8hNR1K"
      },
      "source": [
        "##**1**"
      ]
    },
    {
      "cell_type": "code",
      "execution_count": 2,
      "metadata": {
        "colab": {
          "base_uri": "https://localhost:8080/"
        },
        "id": "DLkTs-uGL8me",
        "outputId": "0ac77ab8-ddf4-48b9-c2e9-0e2e10661c38"
      },
      "outputs": [
        {
          "name": "stdout",
          "output_type": "stream",
          "text": [
            "Hello, How are you?\n"
          ]
        }
      ],
      "source": [
        "def String():\n",
        "  Str='Hello, How are you?'\n",
        "  print(Str)\n",
        "String()"
      ]
    },
    {
      "cell_type": "markdown",
      "metadata": {
        "id": "fGg0OdoINWOQ"
      },
      "source": [
        "##**2**"
      ]
    },
    {
      "cell_type": "code",
      "execution_count": 3,
      "metadata": {
        "colab": {
          "base_uri": "https://localhost:8080/"
        },
        "id": "F22BKtmgNJtO",
        "outputId": "d3916214-89c9-4080-f3fc-39d25f4ec313"
      },
      "outputs": [
        {
          "name": "stdout",
          "output_type": "stream",
          "text": [
            "14\n"
          ]
        }
      ],
      "source": [
        "Strings=('Enter a String')\n",
        "b=len(Strings)\n",
        "print(b)"
      ]
    },
    {
      "cell_type": "markdown",
      "metadata": {
        "id": "QPtwLdxUOmBj"
      },
      "source": [
        "##3"
      ]
    },
    {
      "cell_type": "code",
      "execution_count": 9,
      "metadata": {
        "colab": {
          "base_uri": "https://localhost:8080/"
        },
        "id": "J6OtAkd4QKfP",
        "outputId": "09f4f943-0592-4166-ea6d-1bd2811ec33f"
      },
      "outputs": [
        {
          "data": {
            "text/plain": [
              "['Python', 'is', 'great']"
            ]
          },
          "execution_count": 9,
          "metadata": {},
          "output_type": "execute_result"
        }
      ],
      "source": [
        "my_str='Python is great'\n",
        "my_str.split()"
      ]
    },
    {
      "cell_type": "markdown",
      "metadata": {
        "id": "hhQ-bmcSXZpr"
      },
      "source": [
        "##**4**"
      ]
    },
    {
      "cell_type": "code",
      "execution_count": null,
      "metadata": {
        "colab": {
          "base_uri": "https://localhost:8080/"
        },
        "id": "f3oQRpFtXcdM",
        "outputId": "d7be640e-f8de-45f7-8b5e-4d4e5851f966"
      },
      "outputs": [
        {
          "name": "stdout",
          "output_type": "stream",
          "text": [
            "['Python', 'is', 'everywhere']\n",
            "Python\n",
            " \n",
            "is\n",
            " \n",
            "everywhere\n",
            " \n"
          ]
        }
      ],
      "source": [
        "i=0\n",
        "q4='Python is everywhere'\n",
        "new=''\n",
        "new=q4.split()\n",
        "print(new)\n",
        "for d in range(3):\n",
        " Str=new[i]+'''\n",
        " '''\n",
        " i=i+1\n",
        " print(Str)"
      ]
    },
    {
      "cell_type": "markdown",
      "metadata": {
        "id": "uf6TpEIXaSY3"
      },
      "source": [
        "##**5**"
      ]
    },
    {
      "cell_type": "code",
      "execution_count": null,
      "metadata": {
        "colab": {
          "base_uri": "https://localhost:8080/"
        },
        "id": "-YMj4OUZaWNz",
        "outputId": "1cfc6707-2926-47eb-b5f4-27ab5163fcc1"
      },
      "outputs": [
        {
          "name": "stdout",
          "output_type": "stream",
          "text": [
            "!dlroW olleH\n"
          ]
        }
      ],
      "source": [
        "d=''\n",
        "stri='Hello World!'\n",
        "d=stri[::-1]\n",
        "print(d)\n"
      ]
    },
    {
      "cell_type": "markdown",
      "metadata": {
        "id": "oxBHs1-McwvJ"
      },
      "source": [
        "##**6**"
      ]
    },
    {
      "cell_type": "code",
      "execution_count": null,
      "metadata": {
        "colab": {
          "base_uri": "https://localhost:8080/"
        },
        "id": "AcJAsiiGcx_F",
        "outputId": "f05f3d91-b8ad-4dbf-9f0a-7068779a7b3d"
      },
      "outputs": [
        {
          "name": "stdout",
          "output_type": "stream",
          "text": [
            "HOW ARE YOU?\n"
          ]
        }
      ],
      "source": [
        "up='how are you?'\n",
        "d=up.upper()\n",
        "print(d)\n"
      ]
    },
    {
      "cell_type": "markdown",
      "metadata": {
        "id": "rSeIT8KOesdC"
      },
      "source": [
        "##**7**"
      ]
    },
    {
      "cell_type": "code",
      "execution_count": null,
      "metadata": {
        "colab": {
          "base_uri": "https://localhost:8080/"
        },
        "id": "id8HrmLgeudK",
        "outputId": "417e78ec-8cac-42b8-ea14-934660987459"
      },
      "outputs": [
        {
          "name": "stdout",
          "output_type": "stream",
          "text": [
            "how are you?\n"
          ]
        }
      ],
      "source": [
        "up='How Are YOU?'\n",
        "d=up.lower()\n",
        "print(d)"
      ]
    },
    {
      "cell_type": "markdown",
      "metadata": {
        "id": "hxrEx2MEe9pp"
      },
      "source": [
        "##**8**"
      ]
    },
    {
      "cell_type": "code",
      "execution_count": null,
      "metadata": {
        "colab": {
          "base_uri": "https://localhost:8080/"
        },
        "id": "q0QTW5xnfArB",
        "outputId": "2564592d-93fc-4600-fe7b-3e793e37bf54"
      },
      "outputs": [
        {
          "name": "stdout",
          "output_type": "stream",
          "text": [
            "Python is easy to learn\n"
          ]
        }
      ],
      "source": [
        "updated=''\n",
        "words = ['Python', 'is', 'easy', 'to', 'learn']\n",
        "updated=' '.join(words)\n",
        "print(updated)"
      ]
    },
    {
      "cell_type": "markdown",
      "metadata": {
        "id": "HK3UgBwhgMpN"
      },
      "source": [
        "##**9**"
      ]
    },
    {
      "cell_type": "code",
      "execution_count": null,
      "metadata": {
        "colab": {
          "base_uri": "https://localhost:8080/"
        },
        "id": "RWvkaYF3gPXA",
        "outputId": "668f7357-4188-479a-d76a-558b88e8ceed"
      },
      "outputs": [
        {
          "name": "stdout",
          "output_type": "stream",
          "text": [
            "HI\n",
            "hiw\n",
            "fgdfsdf\n"
          ]
        }
      ],
      "source": [
        "print('''HI\n",
        "hiw\n",
        "fgdfsdf''')"
      ]
    },
    {
      "cell_type": "markdown",
      "metadata": {
        "id": "iNfijv9bgt6w"
      },
      "source": [
        "##**10**"
      ]
    },
    {
      "cell_type": "code",
      "execution_count": null,
      "metadata": {
        "colab": {
          "base_uri": "https://localhost:8080/"
        },
        "id": "rIt-TjLwgwof",
        "outputId": "0485ff90-30d8-4bc2-d0c1-707310a7c53d"
      },
      "outputs": [
        {
          "ename": "TypeError",
          "evalue": "'str' object is not callable",
          "output_type": "error",
          "traceback": [
            "\u001b[0;31m---------------------------------------------------------------------------\u001b[0m",
            "\u001b[0;31mTypeError\u001b[0m                                 Traceback (most recent call last)",
            "\u001b[1;32m/workspaces/Python-Basic/intro.ipynb Cell 22'\u001b[0m in \u001b[0;36m<cell line: 3>\u001b[0;34m()\u001b[0m\n\u001b[1;32m      <a href='vscode-notebook-cell://codespaces%2Bletstry2code-python-basic-v67jv5qggf675/workspaces/Python-Basic/intro.ipynb#ch0000021vscode-remote?line=0'>1</a>\u001b[0m str1\u001b[39m=\u001b[39m\u001b[39m'\u001b[39m\u001b[39m\\n\u001b[39;00m\u001b[39m'\u001b[39m \n\u001b[0;32m----> <a href='vscode-notebook-cell://codespaces%2Bletstry2code-python-basic-v67jv5qggf675/workspaces/Python-Basic/intro.ipynb#ch0000021vscode-remote?line=2'>3</a>\u001b[0m \u001b[39mprint\u001b[39;49m(str1)\n",
            "\u001b[0;31mTypeError\u001b[0m: 'str' object is not callable"
          ]
        }
      ],
      "source": [
        "str1='\\n' \n",
        "\n",
        "print(str1)"
      ]
    },
    {
      "cell_type": "markdown",
      "metadata": {
        "id": "RbWlx2Jo67jG"
      },
      "source": [
        "##**11**"
      ]
    },
    {
      "cell_type": "code",
      "execution_count": null,
      "metadata": {
        "colab": {
          "base_uri": "https://localhost:8080/"
        },
        "id": "D9LWje7o6-hB",
        "outputId": "a1efaef1-fc40-456d-868f-cf97099a3325"
      },
      "outputs": [
        {
          "name": "stdout",
          "output_type": "stream",
          "text": [
            "The Variable is  15\n"
          ]
        }
      ],
      "source": [
        "test='The Variable is '\n",
        "d=15\n",
        "print(test,d)"
      ]
    },
    {
      "cell_type": "markdown",
      "metadata": {
        "id": "dXcRw-NK7RRM"
      },
      "source": [
        "##**12**"
      ]
    },
    {
      "cell_type": "code",
      "execution_count": null,
      "metadata": {
        "colab": {
          "base_uri": "https://localhost:8080/"
        },
        "id": "oH7QwsuK7VqR",
        "outputId": "53485d73-a2cd-4d05-d0b5-eb1f7a742849"
      },
      "outputs": [
        {
          "name": "stdout",
          "output_type": "stream",
          "text": [
            "python is great\n"
          ]
        }
      ],
      "source": [
        "s1='python'\n",
        "s2='is'\n",
        "s3='great'\n",
        "s4=s1+' '+s2+' '+s3\n",
        "print(s4)"
      ]
    },
    {
      "cell_type": "markdown",
      "metadata": {
        "id": "Q5R1ti1D8UWT"
      },
      "source": [
        "##**13**"
      ]
    },
    {
      "cell_type": "code",
      "execution_count": null,
      "metadata": {
        "colab": {
          "base_uri": "https://localhost:8080/"
        },
        "id": "Rmq_VJU28V5z",
        "outputId": "892236f6-158d-4978-ed06-bbdf840af11b"
      },
      "outputs": [
        {
          "name": "stdout",
          "output_type": "stream",
          "text": [
            "####################\n"
          ]
        }
      ],
      "source": [
        "cha='#'\n",
        "print(cha*20)\n"
      ]
    },
    {
      "cell_type": "markdown",
      "metadata": {
        "id": "uwi5OnDY8kar"
      },
      "source": [
        "##**14**"
      ]
    },
    {
      "cell_type": "code",
      "execution_count": null,
      "metadata": {
        "colab": {
          "base_uri": "https://localhost:8080/"
        },
        "id": "dN156w2D8mbS",
        "outputId": "75760e7b-cd3e-4e91-b747-d282c8118073"
      },
      "outputs": [
        {
          "name": "stdout",
          "output_type": "stream",
          "text": [
            "1 .\n",
            "2 .\n",
            "3 .\n",
            "4 .\n",
            "5 .\n",
            "6 .\n",
            "7 .\n",
            "8 .\n",
            "9 .\n"
          ]
        }
      ],
      "source": [
        "i=1\n",
        "for j in range(9):\n",
        "  print(i,'.')\n",
        "  i+=1\n"
      ]
    },
    {
      "cell_type": "markdown",
      "metadata": {
        "id": "GKdt1h5w9JPv"
      },
      "source": [
        "##**15**"
      ]
    },
    {
      "cell_type": "code",
      "execution_count": null,
      "metadata": {
        "colab": {
          "base_uri": "https://localhost:8080/"
        },
        "id": "0HyVW0vR91vM",
        "outputId": "4e8c1b9f-4b2f-4212-e944-a8a277799874"
      },
      "outputs": [
        {
          "name": "stdout",
          "output_type": "stream",
          "text": [
            "Enter a story My Name is Chandra\n",
            "My Name is Chandra\n"
          ]
        }
      ],
      "source": [
        "story =input('''Enter a story : ''')\n",
        "len(story)\n",
        "story.split()\n",
        "print(story)\n"
      ]
    },
    {
      "cell_type": "markdown",
      "metadata": {
        "id": "egoie3UOAZCv"
      },
      "source": [
        "##**16**"
      ]
    },
    {
      "cell_type": "code",
      "execution_count": null,
      "metadata": {
        "colab": {
          "base_uri": "https://localhost:8080/"
        },
        "id": "7Sy_olEiAdho",
        "outputId": "3e8582cd-2f08-46a9-b7ce-446e7a09b29a"
      },
      "outputs": [
        {
          "name": "stdout",
          "output_type": "stream",
          "text": [
            "Enter a String : ksgdjgas skdgasj kjasgdk s?\n",
            "Indeed ut has :)\n"
          ]
        }
      ],
      "source": [
        "Enter=input('Enter a String : ')\n",
        "d=len(Enter)\n",
        "d=d-1\n",
        "if Enter[d]=='?':\n",
        "  print('Indeed it has :)')\n",
        "else:\n",
        "    print('Noooooo')\n"
      ]
    },
    {
      "cell_type": "markdown",
      "metadata": {
        "id": "iX-Ckak3BfgE"
      },
      "source": [
        "##**17**"
      ]
    },
    {
      "cell_type": "code",
      "execution_count": null,
      "metadata": {
        "colab": {
          "base_uri": "https://localhost:8080/"
        },
        "id": "68SvU5QADF32",
        "outputId": "f3dfcca7-b804-41b4-c5ff-473ab56e41a8"
      },
      "outputs": [
        {
          "name": "stdout",
          "output_type": "stream",
          "text": [
            "Enter a String :Enter a STring\n",
            "1 e\n"
          ]
        }
      ],
      "source": [
        "vowels = 'e'\n",
        "message = input('Enter a String :')\n",
        "for vowel in vowels:\n",
        "    print(message.count(vowel),vowel)"
      ]
    },
    {
      "cell_type": "markdown",
      "metadata": {
        "id": "yf5HdwVrDaOw"
      },
      "source": [
        "##**18**"
      ]
    },
    {
      "cell_type": "code",
      "execution_count": null,
      "metadata": {
        "colab": {
          "base_uri": "https://localhost:8080/"
        },
        "id": "ERVzZR_hDcqY",
        "outputId": "7d7efbeb-0703-487b-bbdc-923cde573967"
      },
      "outputs": [
        {
          "name": "stdout",
          "output_type": "stream",
          "text": [
            "Input a Characterd\n",
            "No\n"
          ]
        }
      ],
      "source": [
        "char=input('Input a Character')\n",
        "if char.isnumeric():\n",
        "  print('it is a numeric')\n",
        "else:\n",
        "  print('No')"
      ]
    },
    {
      "cell_type": "markdown",
      "metadata": {
        "id": "zXxEvUYtD4DM"
      },
      "source": [
        "##**19**"
      ]
    },
    {
      "cell_type": "code",
      "execution_count": null,
      "metadata": {
        "colab": {
          "base_uri": "https://localhost:8080/",
          "height": 35
        },
        "id": "mZcXONXhD5oz",
        "outputId": "b7ca2f70-b551-4a94-aa99-7a69d520d81a"
      },
      "outputs": [
        {
          "data": {
            "application/vnd.google.colaboratory.intrinsic+json": {
              "type": "string"
            },
            "text/plain": [
              "'this is not a good string'"
            ]
          },
          "execution_count": 38,
          "metadata": {},
          "output_type": "execute_result"
        }
      ],
      "source": [
        "text = '   this is not a good string           '\n",
        "text.strip()\n"
      ]
    },
    {
      "cell_type": "markdown",
      "metadata": {
        "id": "ubA8BlnsEUXi"
      },
      "source": [
        "##**20**"
      ]
    },
    {
      "cell_type": "code",
      "execution_count": null,
      "metadata": {
        "colab": {
          "base_uri": "https://localhost:8080/"
        },
        "id": "XAE_BpToHmY8",
        "outputId": "4cf882a4-6774-4b13-abdf-2e0bf23ad26a"
      },
      "outputs": [
        {
          "name": "stdout",
          "output_type": "stream",
          "text": [
            "Enter a String :My name is Chandra\n",
            "0 A\n",
            "0 B\n",
            "1 C\n",
            "0 D\n",
            "0 E\n",
            "0 F\n",
            "0 G\n",
            "0 H\n",
            "0 I\n",
            "0 J\n",
            "0 K\n",
            "0 L\n",
            "1 M\n",
            "0 N\n",
            "0 O\n",
            "0 P\n",
            "0 Q\n",
            "0 R\n",
            "0 S\n",
            "0 T\n",
            "0 U\n",
            "0 V\n",
            "0 W\n",
            "0 X\n",
            "0 Y\n",
            "0 Z\n",
            "found\n"
          ]
        }
      ],
      "source": [
        "vowels = 'ABCDEFGHIJKLMNOPQRSTUVWXYZ'\n",
        "message = input('Enter a String :')\n",
        "d=0\n",
        "for vowel in vowels:\n",
        "    print(message.count(vowel),vowel)\n",
        "    d+=1\n",
        "if d>0:\n",
        "  print('found')\n",
        "else:\n",
        "  print('Not Found')"
      ]
    },
    {
      "cell_type": "markdown",
      "metadata": {
        "id": "nUa7nzihJs08"
      },
      "source": [
        "##**21**"
      ]
    },
    {
      "cell_type": "code",
      "execution_count": null,
      "metadata": {
        "colab": {
          "base_uri": "https://localhost:8080/"
        },
        "id": "cEI34GFxJuIg",
        "outputId": "878ea51d-9f3e-4ea2-d6b4-b13652141753"
      },
      "outputs": [
        {
          "ename": "TypeError",
          "evalue": "'str' object is not callable",
          "output_type": "error",
          "traceback": [
            "\u001b[0;31m---------------------------------------------------------------------------\u001b[0m",
            "\u001b[0;31mTypeError\u001b[0m                                 Traceback (most recent call last)",
            "\u001b[1;32m/workspaces/Python-Basic/intro.ipynb Cell 44'\u001b[0m in \u001b[0;36m<cell line: 7>\u001b[0;34m()\u001b[0m\n\u001b[1;32m      <a href='vscode-notebook-cell://codespaces%2Bletstry2code-python-basic-v67jv5qggf675/workspaces/Python-Basic/intro.ipynb#ch0000043vscode-remote?line=4'>5</a>\u001b[0m      m\u001b[39m.\u001b[39mappend(names[i])\n\u001b[1;32m      <a href='vscode-notebook-cell://codespaces%2Bletstry2code-python-basic-v67jv5qggf675/workspaces/Python-Basic/intro.ipynb#ch0000043vscode-remote?line=5'>6</a>\u001b[0m \u001b[39mtype\u001b[39m(m)\n\u001b[0;32m----> <a href='vscode-notebook-cell://codespaces%2Bletstry2code-python-basic-v67jv5qggf675/workspaces/Python-Basic/intro.ipynb#ch0000043vscode-remote?line=6'>7</a>\u001b[0m \u001b[39mprint\u001b[39;49m(m)\n",
            "\u001b[0;31mTypeError\u001b[0m: 'str' object is not callable"
          ]
        }
      ],
      "source": [
        "names = 'Joe, David, Mark, Tom, Chris, Robert'\n",
        "m=[]\n",
        "d=len(names)\n",
        "for i in range(d):\n",
        "     m.append(names[i])\n",
        "type(m)\n",
        "print(m)\n"
      ]
    }
  ],
  "metadata": {
    "colab": {
      "authorship_tag": "ABX9TyNM5FZcTiw2+NfGDy3CwjI9",
      "collapsed_sections": [
        "2eDgOG8hNR1K",
        "fGg0OdoINWOQ",
        "QPtwLdxUOmBj",
        "hhQ-bmcSXZpr",
        "uf6TpEIXaSY3",
        "oxBHs1-McwvJ",
        "rSeIT8KOesdC"
      ],
      "include_colab_link": true,
      "name": "intro.ipynb",
      "provenance": []
    },
    "kernelspec": {
      "display_name": "Python 3.9.12 ('base')",
      "language": "python",
      "name": "python3"
    },
    "language_info": {
      "codemirror_mode": {
        "name": "ipython",
        "version": 3
      },
      "file_extension": ".py",
      "mimetype": "text/x-python",
      "name": "python",
      "nbconvert_exporter": "python",
      "pygments_lexer": "ipython3",
      "version": "3.9.12"
    },
    "vscode": {
      "interpreter": {
        "hash": "2666ff20fe902e6aa7c9606e6054a1cee1db89db7d920dd20d87e7cdab25ac2b"
      }
    }
  },
  "nbformat": 4,
  "nbformat_minor": 0
}
