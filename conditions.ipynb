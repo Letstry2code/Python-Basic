{
 "cells": [
  {
   "cell_type": "code",
   "execution_count": 6,
   "metadata": {},
   "outputs": [
    {
     "name": "stdout",
     "output_type": "stream",
     "text": [
      "If you see an apple seller\n",
      "you dont purchase apples\n"
     ]
    }
   ],
   "source": [
    "print('If you see an apple seller')\n",
    "q = input('do you need like apples')\n",
    "if q =='yes':\n",
    "    print('purchase 2 kg')\n",
    "if q=='no':\n",
    "        print('you dont purchase apples')"
   ]
  },
  {
   "cell_type": "code",
   "execution_count": 9,
   "metadata": {},
   "outputs": [
    {
     "name": "stdout",
     "output_type": "stream",
     "text": [
      "greater than 5\n",
      "Ronaldo cant play\n",
      "the end\n"
     ]
    }
   ],
   "source": [
    "x=10\n",
    "if x>5:\n",
    "    print('greater than 5')\n",
    "    print('Ronaldo cant play')\n",
    "print('the end')"
   ]
  },
  {
   "cell_type": "code",
   "execution_count": 19,
   "metadata": {},
   "outputs": [
    {
     "name": "stdout",
     "output_type": "stream",
     "text": [
      "If you see an apple seller\n",
      "lets bargain\n"
     ]
    }
   ],
   "source": [
    "print('If you see an apple seller')\n",
    "q = input('do you need like apples')\n",
    "if q =='yes':\n",
    "    print('purchase 2 kg')\n",
    "elif q=='may be':cloudmma\n",
    "    print('lets bargain')\n",
    "else:\n",
    "    print('you dont purchase apples')"
   ]
  },
  {
   "cell_type": "code",
   "execution_count": null,
   "metadata": {},
   "outputs": [],
   "source": []
  },
  {
   "cell_type": "code",
   "execution_count": null,
   "metadata": {},
   "outputs": [],
   "source": []
  },
  {
   "cell_type": "code",
   "execution_count": null,
   "metadata": {},
   "outputs": [],
   "source": [
    "print('Input temperature')\n",
    "temp = input('do you need like apples')\n",
    "if q =='yes':\n",
    "    print('purchase 2 kg')\n",
    "elif q=='may be':\n",
    "    print('lets bargain')\n",
    "else:\n",
    "    print('you dont purchase apples')"
   ]
  }
 ],
 "metadata": {
  "interpreter": {
   "hash": "ecf5722fdaf1897a315d257d89d94520bfcaa453217d5becf09b39e73618b0de"
  },
  "kernelspec": {
   "display_name": "Python 3.9.12 ('base')",
   "language": "python",
   "name": "python3"
  },
  "language_info": {
   "codemirror_mode": {
    "name": "ipython",
    "version": 3
   },
   "file_extension": ".py",
   "mimetype": "text/x-python",
   "name": "python",
   "nbconvert_exporter": "python",
   "pygments_lexer": "ipython3",
   "version": "3.9.12"
  },
  "orig_nbformat": 4
 },
 "nbformat": 4,
 "nbformat_minor": 2
}
